{
 "cells": [
  {
   "cell_type": "markdown",
   "id": "4dc04c2f-4c23-4d97-8d08-db2683c78f5a",
   "metadata": {},
   "source": [
    "# **Customer Segmentation Analyst**\n"
   ]
  },
  {
   "cell_type": "markdown",
   "id": "56a323b7-cbf8-4500-aabc-6895647cf4b7",
   "metadata": {
    "jp-MarkdownHeadingCollapsed": true
   },
   "source": [
    "## 1. Latar Belakang\n",
    "Sebagai jantung kehidupan sehari-hari, supermarket memiliki peran krusial dalam memenuhi aspirasi konsumen. <br>Untuk terus memanjakan pelanggan setia dan menarik minat yang lebih luas.<br>**Sebagai Data Scientist** kita bertugas membuat Sebuah supermarket berkomitmen untuk memahami secara mendalam preferensi dan perilaku belanja mereka. Dengan demikian, pengelola supermarket dapat merancang pengalaman belanja yang sesuai, memenuhi ekspektasi, dan menciptakan loyalitas yang mendalam."
   ]
  },
  {
   "cell_type": "code",
   "execution_count": 82,
   "id": "9f783d02",
   "metadata": {},
   "outputs": [],
   "source": [
    "#Importing Modul kebutuhan\n",
    "import pandas as pd\n",
    "import matplotlib.pyplot as plt\n",
    "import seaborn as sns\n",
    "import plotly.express as px\n",
    "\n",
    "from sklearn.preprocessing import LabelEncoder, StandardScaler\n",
    "from sklearn.decomposition import PCA\n",
    "\n",
    "plt.rcParams['figure.figsize'] = (16, 6)\n",
    "sns.set(style=\"darkgrid\")\n",
    "sns.set_palette(\"pastel\")\n"
   ]
  },
  {
   "cell_type": "markdown",
   "id": "c4c1646d-9733-4952-b877-a648b1fa2c65",
   "metadata": {
    "jp-MarkdownHeadingCollapsed": true
   },
   "source": [
    "## 1.1 Pernyataan Masalah\n",
    "- Memahami pola belanja: Mengidentifikasi produk apa saja yang sering dibeli, waktu pembelian, dan jumlah pembelian.\n",
    "- Mengetahui faktor yang mempengaruhi keputusan pembelian: Memahami faktor-faktor seperti harga, merek, kualitas produk, promosi, dan kenyamanan belanja yang mempengaruhi pilihan konsumen.\n",
    "- Mengidentifikasi segmen pasar: Membagi pelanggan menjadi kelompok-kelompok berdasarkan karakteristik dan preferensi yang berbeda untuk dapat memberikan penawaran yang lebih personal\n",
    "- Meningkatkan pengalaman belanja: Menyarankan produk yang sesuai dengan memahami apa yang dibutuhkan pelanggan,\n"
   ]
  },
  {
   "cell_type": "markdown",
   "id": "9a7ac65e-2efd-48e4-a8cf-16a4c1d35922",
   "metadata": {},
   "source": [
    "# 2 Ringkasan Data\n",
    "<h2 style=\"font-size:100%\">People:</h2>\n",
    "<table>\n",
    "    <tr>\n",
    "        <th>#</th>\n",
    "        <th>Feature</th>\n",
    "        <th>Description</th>\n",
    "    </tr>\n",
    "    <tr>\n",
    "        <td>1</td>\n",
    "        <td>ID</td>\n",
    "        <td>Customer's unique identifier</td>\n",
    "    </tr>\n",
    "    <tr>\n",
    "        <td>2</td>\n",
    "        <td>Year_Birth</td>\n",
    "        <td>Customer's birth year</td>\n",
    "    </tr>\n",
    "    <tr>\n",
    "        <td>3</td>\n",
    "        <td>Education</td>\n",
    "        <td>Customer's education level</td>\n",
    "    </tr>\n",
    "    <tr>\n",
    "        <td>4</td>\n",
    "        <td>Marital_Status</td>\n",
    "        <td>Customer's marital status</td>\n",
    "    </tr>\n",
    "    <tr>\n",
    "        <td>5</td>\n",
    "        <td>Income</td>\n",
    "        <td>Customer's yearly household income</td>\n",
    "    </tr>\n",
    "    <tr>\n",
    "        <td>6</td>\n",
    "        <td>Kidhome</td>\n",
    "        <td>Number of children in customer's household</td>\n",
    "    </tr>\n",
    "    <tr>\n",
    "        <td>7</td>\n",
    "        <td>Teenhome</td>\n",
    "        <td>Number of teenagers in customer's household</td>\n",
    "    </tr>\n",
    "    <tr>\n",
    "        <td>8</td>\n",
    "        <td>Dt_Customer</td>\n",
    "        <td>Date of customer's enrollment with the company</td>\n",
    "    </tr>\n",
    "    <tr>\n",
    "        <td>9</td>\n",
    "        <td>Recency</td>\n",
    "        <td>Number of days since customer's last purchase</td>\n",
    "    </tr>\n",
    "    <tr>\n",
    "        <td>10</td>\n",
    "        <td>Complain</td>\n",
    "        <td>1 if the customer complained in the last 2 years, 0 otherwise</td>\n",
    "    </tr>\n",
    "</table>\n",
    "\n",
    "<h2 style=\"font-size:100%\">Products:</h2>\n",
    "<table>\n",
    "    <tr>\n",
    "        <th>#</th>\n",
    "        <th>Feature</th>\n",
    "        <th>Description</th>\n",
    "    </tr>\n",
    "    <tr>\n",
    "        <td>11</td>\n",
    "        <td>MntWines</td>\n",
    "        <td>Amount spent on wine in last 2 years</td>\n",
    "    </tr>\n",
    "    <tr>\n",
    "        <td>12</td>\n",
    "        <td>MntFruits</td>\n",
    "        <td>Amount spent on fruits in last 2 years</td>\n",
    "    </tr>\n",
    "    <tr>\n",
    "        <td>13</td>\n",
    "        <td>MntMeatProducts</td>\n",
    "        <td>Amount spent on meat in last 2 years</td>\n",
    "    </tr>\n",
    "    <tr>\n",
    "        <td>14</td>\n",
    "        <td>MntFishProducts</td>\n",
    "        <td>Amount spent on fish in last 2 years</td>\n",
    "    </tr>\n",
    "    <tr>\n",
    "        <td>15</td>\n",
    "        <td>MntSweetProducts</td>\n",
    "        <td>Amount spent on sweets in last 2 years</td>\n",
    "    </tr>\n",
    "    <tr>\n",
    "        <td>16</td>\n",
    "        <td>MntGoldProds</td>\n",
    "        <td>Amount spent on gold in last 2 years</td>\n",
    "    </tr>\n",
    "</table>\n",
    "\n",
    "<h2 style=\"font-size:100%\">Promotion:</h2>\n",
    "<table>\n",
    "    <tr>\n",
    "        <th>#</th>\n",
    "        <th>Feature</th>\n",
    "        <th>Description</th>\n",
    "    </tr>\n",
    "    <tr>\n",
    "        <td>17</td>\n",
    "        <td>NumDealsPurchases</td>\n",
    "        <td>Number of purchases made with a discount</td>\n",
    "    </tr>\n",
    "    <tr>\n",
    "        <td>18</td>\n",
    "        <td>AcceptedCmp1</td>\n",
    "        <td>1 if customer accepted the offer in the 1st campaign, 0 otherwise</td>\n",
    "    </tr>\n",
    "    <tr>\n",
    "        <td>19</td>\n",
    "        <td>AcceptedCmp2</td>\n",
    "        <td>1 if customer accepted the offer in the 2nd campaign, 0 otherwise</td>\n",
    "    </tr>\n",
    "    <tr>\n",
    "        <td>20</td>\n",
    "        <td>AcceptedCmp3</td>\n",
    "        <td>1 if customer accepted the offer in the 3rd campaign, 0 otherwise</td>\n",
    "    </tr>\n",
    "    <tr>\n",
    "        <td>21</td>\n",
    "        <td>AcceptedCmp4</td>\n",
    "        <td>1 if customer accepted the offer in the 4th campaign, 0 otherwise</td>\n",
    "   "
   ]
  },
  {
   "cell_type": "markdown",
   "id": "73679abb",
   "metadata": {},
   "source": [
    "### 2.1 Data Set"
   ]
  },
  {
   "cell_type": "markdown",
   "id": "b3532bd3",
   "metadata": {},
   "source": []
  },
  {
   "cell_type": "code",
   "execution_count": null,
   "id": "8f4e38d2-0cf0-44af-8575-60fb579154f3",
   "metadata": {},
   "outputs": [],
   "source": [
    "scm = pd.read_csv('Supermarket Customers.csv', delimiter =\"\\t\")\n",
    "df = scm.copy()\n",
    "display(df.head(), df.tail())"
   ]
  },
  {
   "cell_type": "markdown",
   "id": "55a7ae09",
   "metadata": {},
   "source": [
    "### 2.2 Informasi Data Supermarket"
   ]
  },
  {
   "cell_type": "code",
   "execution_count": null,
   "id": "bf7ef6b5-bede-4164-a204-62df7fd060c6",
   "metadata": {},
   "outputs": [],
   "source": [
    "print(f'Jumlah baris dan kolom di dataset Supermarket Costumers adalah {df.shape}')\n",
    "df.info()"
   ]
  },
  {
   "cell_type": "markdown",
   "id": "8c5a4a41",
   "metadata": {},
   "source": [
    "### 2.3 Deskripsi Data Numerik"
   ]
  },
  {
   "cell_type": "code",
   "execution_count": null,
   "id": "040670dd",
   "metadata": {},
   "outputs": [],
   "source": [
    "df.describe()"
   ]
  },
  {
   "cell_type": "markdown",
   "id": "b842c9e8",
   "metadata": {},
   "source": [
    "### 2.4 Deskripsi Data Object"
   ]
  },
  {
   "cell_type": "code",
   "execution_count": null,
   "id": "5213013d",
   "metadata": {},
   "outputs": [],
   "source": [
    "df.describe(include='object')"
   ]
  },
  {
   "cell_type": "markdown",
   "id": "bad30201-7b87-4802-9100-5ce4b85f72fc",
   "metadata": {},
   "source": []
  },
  {
   "cell_type": "markdown",
   "id": "04902ccb",
   "metadata": {},
   "source": [
    "### 2.5 Pengujian Data Awal\n",
    "Dapat disimpulkan bahwa :\n",
    "- Dari deskripsi numerik, kita melihat bahwa kolom tahun lahir dan pendapatan mengandung outlier ekstrem yang harus kita tangani.\n",
    "- Kolom `Z_CostContact` dan `Z_Revenue` hanya berisi satu nilai, oleh karena itu sepertinya bisa dihapus. Kemudian, kolom `ID` tidak akan membantu kita dalam analisis dan harus dihapus juga.\n",
    "Dan Juga kolom `Income` mengandung sejumlah kecil nilai yang hilang."
   ]
  },
  {
   "cell_type": "markdown",
   "id": "4ca7b1df",
   "metadata": {},
   "source": [
    "## 3. EDA\n",
    "Exploratory Data Analysis (EDA) adalah langkah penting dalam memahami data sebelum melakukan analisis lebih lanjut. Berikut adalah beberapa langkah yang dilakukan dalam EDA:\n",
    "\n",
    "- Pemeriksaan Data: Memeriksa data untuk menemukan nilai yang hilang, duplikat, dan anomali. Ini penting untuk memastikan kualitas data yang akan dianalisis.\n",
    "\n",
    "- Statistik Deskriptif: Menghitung statistik deskriptif seperti rata-rata, median, modus, dan distribusi untuk setiap fitur. Ini memberikan gambaran umum tentang data.\n",
    "\n",
    "- Visualisasi Data: Menggunakan grafik dan diagram untuk memvisualisasikan hubungan antara variabel. Misalnya, menggunakan histogram untuk melihat distribusi pengeluaran pelanggan atau diagram batang untuk membandingkan jumlah pembelian berdasarkan kategori produk.\n",
    "\n",
    "- Analisis Korelasi: Menghitung korelasi antara variabel untuk memahami hubungan antara pengeluaran dan faktor-faktor lain seperti pendapatan dan promosi. Ini membantu dalam mengidentifikasi faktor-faktor yang mempengaruhi keputusan pembelian.\n",
    "\n",
    "- Segmentasi Pelanggan: Mengelompokkan pelanggan berdasarkan karakteristik dan perilaku belanja mereka. Ini memungkinkan supermarket untuk menyesuaikan penawaran dan promosi sesuai dengan kebutuhan setiap segmen."
   ]
  },
  {
   "cell_type": "code",
   "execution_count": 87,
   "id": "1c82d1f8-599f-427d-ac58-9629ef17259b",
   "metadata": {},
   "outputs": [],
   "source": [
    "#Shortcut untuk menampilkan visualisasi\n",
    "\n",
    "def set_labels(x=\"\", y=\"\", title=\"\", axis=None):\n",
    "  if axis:\n",
    "    axis.set_xlabel(x);\n",
    "    axis.set_ylabel(y);\n",
    "    axis.set_title(title);\n",
    "  else:\n",
    "    plt.title(title);\n",
    "    plt.xlabel(x);\n",
    "    plt.ylabel(y);\n",
    "\n",
    "## Shortcut Display via Loop Per column\n",
    "# for column in dfCopy.columns:\n",
    "#     # 1. Visualisasi Distribusi parsing column\n",
    "#     plt.figure(figsize=(10, 5))\n",
    "#     sns.histplot(dfCopy[column], bins=20, kde=True)\n",
    "#     set_labels(x=column, y=\"Frequency\", title=f\"Distribusi data {column}\")\n",
    "#     plt.show()"
   ]
  },
  {
   "cell_type": "markdown",
   "id": "1ad75105",
   "metadata": {},
   "source": [
    "### 3.1 Pelanggan"
   ]
  },
  {
   "cell_type": "markdown",
   "id": "f31581b3",
   "metadata": {},
   "source": [
    "#### 3.1.1 Bagaimana distribusi tahun lahir dari pelanggan"
   ]
  },
  {
   "cell_type": "code",
   "execution_count": null,
   "id": "45f42f63",
   "metadata": {},
   "outputs": [],
   "source": [
    "set_labels(x=\"Year of Birth\", y=\"Frequency\", title=\"Sebaran Data Tahun Lahir\")\n",
    "plt.xticks(list(range(1830,2000,5)), rotation=45)\n",
    "plt.grid(True)\n",
    "sns.histplot(df['Year_Birth'], bins=20, kde=True)\n",
    "plt.show()"
   ]
  },
  {
   "cell_type": "markdown",
   "id": "d8b50847",
   "metadata": {},
   "source": [
    "Sebagian besar pelanggan antara tahun 1970 hingga 1978,\n",
    "Orang yang lebih tua tampaknya memiliki frequensi lebih tinggi dibandingkan kelahiran yang lebih muda.\n",
    "Kemudian Outlier juga ditemukan."
   ]
  },
  {
   "cell_type": "markdown",
   "id": "5d81d782",
   "metadata": {},
   "source": [
    "#### 3.1.2 Mayoritas data kategorikal Pendidikan"
   ]
  },
  {
   "cell_type": "markdown",
   "id": "b4fef681",
   "metadata": {},
   "source": []
  },
  {
   "cell_type": "code",
   "execution_count": null,
   "id": "a0c07c9e",
   "metadata": {},
   "outputs": [],
   "source": [
    "set_labels(x=\"Education Level\", y=\"Frequency\", title=\"Education Levels Among Customers\")\n",
    "sns.countplot(x=df.Education, order = df.Education.value_counts().index, hue=df.Education, legend=False)\n",
    "plt.show()"
   ]
  },
  {
   "cell_type": "markdown",
   "id": "7daf01c9",
   "metadata": {},
   "source": [
    "#### 3.1.3 Mayoritas data kategori pernikahan"
   ]
  },
  {
   "cell_type": "code",
   "execution_count": null,
   "id": "d939e3ca",
   "metadata": {},
   "outputs": [],
   "source": [
    "dfMar = df.Marital_Status.value_counts()\n",
    "dfMar"
   ]
  },
  {
   "cell_type": "markdown",
   "id": "4cf87fa0",
   "metadata": {},
   "source": [
    "Terlihat beberapa kategori yang tidak masuk akal. `Married` `Together` dapat diartikan berpasangan. `Single` `Divorce` `Widow` `Alone` diasumsikan sebagai lajang, sementara `Absurd` dan `YOLO` dapat diabaikan karena tidak dapat di interpretasi dari kedua kategori sebelumnya."
   ]
  },
  {
   "cell_type": "code",
   "execution_count": null,
   "id": "185243c7",
   "metadata": {},
   "outputs": [],
   "source": [
    "single = dfMar[['Single', 'Divorced', 'Widow', 'Alone']].sum()\n",
    "relationship =  dfMar[['Married', 'Together']].sum()\n",
    "\n",
    "set_labels(title=\"Status Hubungan Konsumen\")\n",
    "color = sns.color_palette('ch:start=.2,rot=-.3')\n",
    "plt.pie([single, relationship], labels = ['Lajang', 'Berpasangan'], autopct='%.0f%%', colors=color)\n",
    "plt.show()"
   ]
  },
  {
   "cell_type": "markdown",
   "id": "048c5f65",
   "metadata": {},
   "source": [
    "Dari pie chart terlihat mayoritas pelanggan berstatus berpasangan 65%"
   ]
  },
  {
   "cell_type": "markdown",
   "id": "47d56cc0",
   "metadata": {},
   "source": [
    "#### 3.1.4 Mayoritas pendapatan pelanggan"
   ]
  },
  {
   "cell_type": "code",
   "execution_count": null,
   "id": "3cbc8d0a",
   "metadata": {},
   "outputs": [],
   "source": [
    "sns.displot(df['Income'], kde=True, height=6, aspect=2.6)\n",
    "plt.xticks(list(range(0,700000,50000)))\n",
    "set_labels(x=\"Income\", y=\"Frequency\", title=\" Distribusi Pendapatan Pelanggan\")\n",
    "print('Dapat diamati outlier terlihat , ini dapat diabaikan dulu sementara dengan cara menganalisa data lebih dalam')"
   ]
  },
  {
   "cell_type": "markdown",
   "id": "1ff17e6c",
   "metadata": {},
   "source": []
  },
  {
   "cell_type": "code",
   "execution_count": null,
   "id": "5767d76b",
   "metadata": {},
   "outputs": [],
   "source": [
    "sns.displot(df['Income'], kde=True, height=6, aspect=2.6)\n",
    "plt.xlim([0, 200000])\n",
    "set_labels(x=\"Income\", y=\"Frequency\", title=\" Distribusi Pendapatan Pelanggan\")\n",
    "set_labels(x='Income', y='Frequency', title='Distribusi (Bimodal)')\n",
    "plt.axvline(x=35000,color='r', linestyle='--', label='Income ~ 3000')\n",
    "plt.axvline(x=65000,color='r', linestyle='--', label='Income ~ 65000')\n",
    "plt.legend()\n",
    "plt.show()\n",
    "print(df['Income'].describe())\n",
    "print('Distribusi pendapatan bersifat bimodal dengan pendapatan tahunan yang paling umum sekitar 35.000 dan 65.000.')\n"
   ]
  },
  {
   "cell_type": "markdown",
   "id": "be8d20fe",
   "metadata": {},
   "source": [
    "#### 3.1.5 Mayoritas Jumlah Anak dan Remaja"
   ]
  },
  {
   "cell_type": "code",
   "execution_count": null,
   "id": "bb29c663",
   "metadata": {},
   "outputs": [],
   "source": [
    "# Menghitung jumlah anak-anak dan remaja di rumah tangga\n",
    "kid = df.Kidhome.value_counts()\n",
    "teen = df.Teenhome.value_counts()\n",
    "\n",
    "# Membuat DataFrame untuk counts\n",
    "counts = pd.DataFrame({\n",
    "    'Anak2 per Rumah Tangga': [kid[0], kid[1], kid[2]],  # Jumlah untuk kategori Kids Home\n",
    "    'Remaja per Rumah Tangga': [teen[0], teen[1], teen[2]]  # Jumlah untuk kategori Teens Home\n",
    "}, index=['Tidak Punya', '1 Anak', '2/lebih Anak']).T\n",
    "\n",
    "# Membuat grafik batang\n",
    "counts.plot(kind=\"bar\", rot=0)\n",
    "set_labels(x=\" Jumlah Dalam Rumah Tangga\", y=\"Count\", title=\"Proporsi Anak-anak & Remaja per Rumah Tangga\")\n",
    "print('Sebagian besar pelanggan tidak memiliki remaja atau anak-anak. Namun, jumlah pelanggan yang memiliki satu remaja lebih banyak daripada pelanggan yang memiliki satu anak.')"
   ]
  },
  {
   "cell_type": "markdown",
   "id": "c5ae130c",
   "metadata": {},
   "source": [
    "#### 3.1.6 Sejak kapan supermarket mulai mendapatkan pelanggannya?"
   ]
  },
  {
   "cell_type": "code",
   "execution_count": null,
   "id": "9e847b6c",
   "metadata": {},
   "outputs": [],
   "source": [
    "\n",
    "set_labels(x=\"Customer Enrollment Date\", y=\"Count\", title=\"Distribution of Customer Enrollment Dates\")\n",
    "sns.histplot(pd.to_datetime(df['Dt_Customer'], format='%d-%m-%Y'), kde=True, bins= 30)\n",
    "print('\"Tanggal pendaftaran terdistribusi normal, dengan sebagian besar pelanggan terdaftar antara Juli 2012 dan Juli 2014.\"')"
   ]
  },
  {
   "cell_type": "markdown",
   "id": "db27784f",
   "metadata": {},
   "source": [
    "### 3.1.7 Jumlah hari yang paling umum ditemukan pada antara pembelian terakhir pelanggan"
   ]
  },
  {
   "cell_type": "code",
   "execution_count": null,
   "id": "515aabda",
   "metadata": {},
   "outputs": [],
   "source": [
    "set_labels(x=\"Rentang Waktu Pembelian terakhir\", title=\"Distribusi dari Customer Recency\")\n",
    "sns.violinplot(x=df['Recency'])\n",
    "plt.show()\n",
    "print('Recency Konsumen terlihat terdistribusi Normal. Interval hari terlihat persis sama.')"
   ]
  },
  {
   "cell_type": "markdown",
   "id": "d3d307df",
   "metadata": {},
   "source": [
    "### 3.1.8 Persentasi dari Konsumen yang Complain"
   ]
  },
  {
   "cell_type": "code",
   "execution_count": null,
   "id": "9c05a636",
   "metadata": {},
   "outputs": [],
   "source": [
    "counts = df.Complain.map({0:\"No\", 1:\"Yes\"}).value_counts()\n",
    "\n",
    "fig = px.pie(values=counts.values, names=counts.index, hole=0.6,\n",
    "             color_discrete_sequence=px.colors.qualitative.Pastel)\n",
    "fig.update_layout(title_text='Persentasi Komplain Konsumen dalam 2 tahun terakhir', title_x=0.5)\n"
   ]
  },
  {
   "cell_type": "markdown",
   "id": "0af5f59a",
   "metadata": {},
   "source": [
    "## 3.2 Produk"
   ]
  },
  {
   "cell_type": "markdown",
   "id": "7d5809b9",
   "metadata": {},
   "source": [
    "### 3.2.1 Produk yang paling banyak terjual"
   ]
  },
  {
   "cell_type": "code",
   "execution_count": null,
   "id": "0d9a6268",
   "metadata": {},
   "outputs": [],
   "source": [
    "avg = df[['MntWines', 'MntFruits', 'MntMeatProducts', 'MntFishProducts',\n",
    "          'MntSweetProducts', 'MntGoldProds']].mean(axis=0)\n",
    "\n",
    "fig = px.pie(values=avg.values, names=avg.index,  \n",
    "             color_discrete_sequence=px.colors.qualitative.Pastel)\n",
    "fig.update_layout(title_text='Average Amount Spent on Product Categories', title_x=0.5,\n",
    "                  legend=dict(\n",
    "                      yanchor=\"top\",\n",
    "                      y=0.99,\n",
    "                      xanchor=\"right\",\n",
    "                      x=0.99\n",
    "                  ))\n"
   ]
  },
  {
   "cell_type": "markdown",
   "id": "704d72c7",
   "metadata": {},
   "source": [
    "50% dari rata-rata konsumen membeli wines, kemudian product Meat 27%."
   ]
  },
  {
   "cell_type": "markdown",
   "id": "520719a4",
   "metadata": {},
   "source": [
    "### 3.2.2 Hubungan Pendidikan dan Pola Konsumtif Konsumen"
   ]
  },
  {
   "cell_type": "code",
   "execution_count": null,
   "id": "f9bfd6ad",
   "metadata": {},
   "outputs": [],
   "source": [
    "cat = df.groupby('Education')[['MntWines', 'MntFruits', 'MntMeatProducts', 'MntFishProducts',\n",
    "          'MntSweetProducts', 'MntGoldProds']].mean().T\n",
    "\n",
    "cat.plot(kind='bar', rot=0)\n",
    "set_labels(y=\"Amount\", title=\"Average Amount Spent On Products for Each Education Level\")"
   ]
  },
  {
   "cell_type": "markdown",
   "id": "991872ef",
   "metadata": {},
   "source": [
    "Dari Visualisasi menunjukkan bahwa pemegang gelar PhD menghabiskan paling banyak untuk anggur. Untuk buah-buahan, emas, dan produk daging, individu yang berpendidikan \"sarjana\" menghabiskan paling banyak. Sedangkan individu dengan pendidikan \"2n cycle\" menghabiskan paling banyak untuk ikan dan permen"
   ]
  },
  {
   "cell_type": "markdown",
   "id": "7459c75e",
   "metadata": {},
   "source": [
    "### 3.2.3 Pengaruh Complain dan pola belanja"
   ]
  },
  {
   "cell_type": "code",
   "execution_count": null,
   "id": "3aaf7802",
   "metadata": {},
   "outputs": [],
   "source": [
    "cat = df.copy()\n",
    "cat.Complain = cat.Complain.map({0:\"No\", 1:\"Yes\"})\n",
    "cat = round(cat.groupby('Complain')[['MntWines', 'MntFruits', 'MntMeatProducts', 'MntFishProducts',\n",
    "          'MntSweetProducts', 'MntGoldProds']].mean().T.unstack().reset_index(level=1, name='mean') \\\n",
    "          .rename(columns={'level_1':'category'}).reset_index(), 2)\n",
    "\n",
    "fig = px.bar(data_frame=cat, y='mean', x='Complain',\n",
    "             text=cat['mean'].map(lambda x: str(x)),\n",
    "             color_discrete_sequence=px.colors.qualitative.Pastel,\n",
    "             color='category')\n",
    "\n",
    "fig.update_layout(title=\"Complaining Vs Non-complaining Individu\", title_x=0.5)"
   ]
  },
  {
   "cell_type": "markdown",
   "id": "1f85b6be",
   "metadata": {},
   "source": [
    "Seperti yang diharapkan, orang-orang yang mengeluh tentang layanan tingkat pembeliannya lebih sedikit.\n",
    "Rata-rata pengeluaran untuk pelanggan yang mengeluh jauh lebih rendah di semua kategori produk."
   ]
  },
  {
   "cell_type": "markdown",
   "id": "f08bc125",
   "metadata": {},
   "source": [
    "## 3.3 Promosi"
   ]
  },
  {
   "cell_type": "markdown",
   "id": "02c915cf",
   "metadata": {},
   "source": [
    "### 3.3.1 Distribusi pembelian dengan diskon di antara berbagai tingkat pendidikan"
   ]
  },
  {
   "cell_type": "code",
   "execution_count": null,
   "id": "22073e8f",
   "metadata": {},
   "outputs": [],
   "source": [
    "discounted_purchases = df.groupby('Education').NumDealsPurchases.sum()\n",
    "total_purchases = df.groupby('Education')[['NumWebPurchases', 'NumCatalogPurchases', 'NumStorePurchases']].sum().sum(axis=1)\n",
    "\n",
    "percentage = round(discounted_purchases * 100 / total_purchases, 2).sort_values(ascending=False)\n",
    "percentage_df = percentage.reset_index()\n",
    "percentage_df.columns = ['Education', 'Percentage']\n",
    "# Visualisasi dengan bar plot\n",
    "plt.figure(figsize=(10, 6))\n",
    "sns.barplot(data=percentage_df, y='Education', x='Percentage', hue='Education')\n",
    "\n",
    "set_labels(x=\"Percentage\", y=\"Education\", title=\"Ratio of Discounted Purchases to Normal Perchases Per Education Level\")"
   ]
  },
  {
   "cell_type": "markdown",
   "id": "2501cb61",
   "metadata": {},
   "source": [
    "Terlihat bahwa individu dengan tingkat pendidikan terendah memiliki persentase pembelian dengan diskon yang jauh lebih tinggi.\n",
    "Persentase pembelian dengan diskon terendah dilakukan oleh pemegang gelar PhD."
   ]
  },
  {
   "cell_type": "markdown",
   "id": "59e88617",
   "metadata": {},
   "source": [
    "### 3.3.2 Kampanye yang paling sukses di antara pelanggan"
   ]
  },
  {
   "cell_type": "code",
   "execution_count": null,
   "id": "149a9bc6",
   "metadata": {},
   "outputs": [],
   "source": [
    "aCmp = df[['AcceptedCmp1', 'AcceptedCmp2', 'AcceptedCmp3', 'AcceptedCmp4',\n",
    "           'AcceptedCmp5', 'Response']].sum(axis=0) / len(df)\n",
    "names = ['Campaign 1','Campaign 2','Campaign 3','Campaign 4','Campaign 5','Current Campaign']\n",
    "\n",
    "set_labels(y=\"Percentage\", x=\"Campaign\", title=\"Persentase pelanggan Accepted Offers Per Campaign\")\n",
    "sns.barplot(y=aCmp.values, x=names, hue = names)\n",
    "plt.show()\n"
   ]
  },
  {
   "cell_type": "markdown",
   "id": "4a5835c4",
   "metadata": {},
   "source": [
    "Dapat kita amati bahwa permintaan terhadap penawaran kampanye sangat rendah di kalangan pelanggan, karena kampanye yang paling sukses hanya menarik sekitar 15% dari pelanggan."
   ]
  },
  {
   "cell_type": "markdown",
   "id": "005c0088",
   "metadata": {},
   "source": [
    "### 3.3.3 Persentase penawaran yang diterima per kampanye dari semua penawaran yang diterima"
   ]
  },
  {
   "cell_type": "code",
   "execution_count": null,
   "id": "8ffcb975",
   "metadata": {},
   "outputs": [],
   "source": [
    "aCmp = df[['AcceptedCmp1', 'AcceptedCmp2', 'AcceptedCmp3', 'AcceptedCmp4',\n",
    "           'AcceptedCmp5', 'Response']].sum(axis=0)\n",
    "names = ['Campaign 1','Campaign 2','Campaign 3','Campaign 4','Campaign 5','Current Campaign']\n",
    "\n",
    "fig = px.pie(values=aCmp.values, names=names, hole=0.6,\n",
    "             color_discrete_sequence=px.colors.qualitative.Pastel)\n",
    "fig.update_layout(title_text='Percentage of Accepted Offers Per Campaign', title_x=0.5)"
   ]
  },
  {
   "cell_type": "markdown",
   "id": "4124acfa",
   "metadata": {},
   "source": [
    "Kampanye berjalaan saat ini memiliki jauh lebih banyak penawaran yang diterima, dengan sekitar 33,4% dari semua penawaran yang diterima. Ini menjadikannya kampanye yang paling sukses sejauh ini."
   ]
  },
  {
   "cell_type": "markdown",
   "id": "99031869",
   "metadata": {},
   "source": [
    "### 3.3.4 Outlet yang memiliki jumlah pembelian paling banyak"
   ]
  },
  {
   "cell_type": "code",
   "execution_count": null,
   "id": "3f984d4c",
   "metadata": {},
   "outputs": [],
   "source": [
    "\n",
    "# Menghitung total pembelian berdasarkan metode\n",
    "columns = ['NumWebPurchases', 'NumCatalogPurchases', 'NumStorePurchases']\n",
    "columns_new = ['Web Purchases', 'Catalog Purchases', 'Store Purchases']\n",
    "\n",
    "total = pd.DataFrame({\n",
    "    'Method': columns_new,\n",
    "    'Total': df[columns].sum().values\n",
    "})\n",
    "\n",
    "# Membuat treemap\n",
    "fig = px.treemap(total, path=['Method'], values='Total',\n",
    "                 color_discrete_sequence=px.colors.qualitative.Pastel,\n",
    "                )\n",
    "\n",
    "# Mengatur layout\n",
    "fig.update_layout(margin=dict(t=25, l=25, r=25, b=25),\n",
    "                  title_text='Transaksi yang dilakukan berdasarkan Metode',\n",
    "                  title_x=0.5,\n",
    "                  title_y=0.96)\n",
    "\n",
    "# Menampilkan plot\n",
    "fig.show()"
   ]
  },
  {
   "cell_type": "markdown",
   "id": "0b4160e6",
   "metadata": {},
   "source": [
    "Dapat kita lihat bahwa sebagian besar pembelian dilakukan di toko, diikuti oleh pembelian melalui web dengan 9150 transaksi. Pembelian melalui katalog merupakan yang paling sedikit."
   ]
  },
  {
   "cell_type": "markdown",
   "id": "f3b571cd",
   "metadata": {},
   "source": [
    "# 4 Data Cleaning <a class=\"anchor\" id=\"cleaning\"></a>\n",
    "Data cleaning adalah langkah penting dalam proses analisis data, karena memastikan kualitas dan keandalan data yang digunakan untuk analisis. Dalam bagian ini, kami akan menjelaskan langkah-langkah yang diambil untuk membersihkan dataset, mengatasi masalah seperti nilai yang hilang, duplikat, dan inkonsistensi"
   ]
  },
  {
   "cell_type": "markdown",
   "id": "cee35908",
   "metadata": {},
   "source": [
    "## 4.1 Missing Values <a class=\"anchor\" id=\"cleaning_missing\"></a>"
   ]
  },
  {
   "cell_type": "code",
   "execution_count": null,
   "id": "302a0f59",
   "metadata": {},
   "outputs": [],
   "source": [
    "missing = (df.isna().sum() / len(df) * 100).round(2)\n",
    "print(missing)"
   ]
  },
  {
   "cell_type": "markdown",
   "id": "e7731ff3",
   "metadata": {},
   "source": [
    "Karena jumlah data hilang sangat sedikit hanya sekitar 1 %, diputuskan untuk menghapus row data yang missing."
   ]
  },
  {
   "cell_type": "code",
   "execution_count": null,
   "id": "f024bd99",
   "metadata": {},
   "outputs": [],
   "source": [
    "df = df.dropna()\n",
    "df.shape\n",
    "print(f\"Data yang tersisa setelah row missing dihapus adalah :{df.shape}\")"
   ]
  },
  {
   "cell_type": "markdown",
   "id": "6f745a66",
   "metadata": {},
   "source": [
    "## 4.2 Inkonsistensi Tipe Data <a class=\"anchor\" id=\"cleaning_incorrect\"></a>"
   ]
  },
  {
   "cell_type": "code",
   "execution_count": null,
   "id": "b2dfa620",
   "metadata": {},
   "outputs": [],
   "source": [
    "df.dtypes"
   ]
  },
  {
   "cell_type": "markdown",
   "id": "3a8757d0",
   "metadata": {},
   "source": [
    "Kolom `Dt_Customer` bertipe data Object, Kolom ini mengandung format waktu. Agar lebih sederhana kolom ini akan di casting ke tipe data integer"
   ]
  },
  {
   "cell_type": "code",
   "execution_count": null,
   "id": "6cb5102e",
   "metadata": {},
   "outputs": [],
   "source": [
    "df.loc[:, 'Dt_Customer'] = pd.to_datetime(df['Dt_Customer'], format='%d-%m-%Y', errors='coerce').dt.year\n",
    "\n",
    "df['Dt_Customer']"
   ]
  },
  {
   "cell_type": "markdown",
   "id": "f92766a1",
   "metadata": {},
   "source": []
  },
  {
   "cell_type": "markdown",
   "id": "07ea30b6",
   "metadata": {},
   "source": [
    "## 4.3 Inkonsistensi Nilai <a class=\"anchor\" id=\"cleaning_inconsistent\"></a>"
   ]
  },
  {
   "cell_type": "code",
   "execution_count": null,
   "id": "86100acb",
   "metadata": {},
   "outputs": [],
   "source": [
    "df['Education'].unique()"
   ]
  },
  {
   "cell_type": "markdown",
   "id": "8fdbe223",
   "metadata": {},
   "source": [
    "Pada kolom pendidikan, kita memiliki banyak nilai untuk pendidikan, dan kita dapat mengonversinya menjadi sesuatu yang dapat dipahami. Dari beberapa penelitian, ditemukan bahwa `2n cycle` adalah gelar magister, `Basic` adalah hingga sekolah menengah, dan `Graduation` adalah gelar sarjana."
   ]
  },
  {
   "cell_type": "code",
   "execution_count": null,
   "id": "ba8155c4",
   "metadata": {},
   "outputs": [],
   "source": [
    "\n",
    "df['Education'] = df['Education'].replace({\n",
    "    \"Graduation\": \"Bachelor\",\n",
    "    \"Basic\": \"High School\",\n",
    "    \"2n Cycle\": \"Master\"\n",
    "})\n",
    "df['Education'].unique()"
   ]
  },
  {
   "cell_type": "code",
   "execution_count": null,
   "id": "a619027b",
   "metadata": {},
   "outputs": [],
   "source": [
    "df.Marital_Status.unique()"
   ]
  },
  {
   "cell_type": "markdown",
   "id": "185c347b",
   "metadata": {},
   "source": [
    "Bisa kita lihat nilai dalam `Marital_Status` juga tidak konsisten. Kita dapat membagi menjadi 2 , Single & Couple\n"
   ]
  },
  {
   "cell_type": "code",
   "execution_count": null,
   "id": "0484312c",
   "metadata": {},
   "outputs": [],
   "source": [
    "df['Marital_Status'] = df['Marital_Status'].replace({\"Together\": \"Couple\",\n",
    "                           \"Married\": \"Couple\",\n",
    "                           \"Divorced\":\"Single\",\n",
    "                           \"Widow\": \"Single\",\n",
    "                           \"Alone\": \"Single\",\n",
    "                           \"Absurd\": \"Single\",\n",
    "                           \"YOLO\": \"Single\"},)\n",
    "\n",
    "df.Marital_Status.unique()\n",
    "df"
   ]
  },
  {
   "cell_type": "markdown",
   "id": "cfce1de8",
   "metadata": {},
   "source": [
    "## 4.4 Menghapus Outlier  <a class=\"anchor\" id=\"cleaning_outliers\"></a>\n",
    "\n",
    "Pada tahap awal(EDA), dapat diamati beberapa outlier. outlier tersebut terutama merupakan nilai ekstrem dalam kolom tahun kelahiran dan pendapatan. Karena jumlahnya sedikit, aman untuk menghapus nilai-nilai tersebut."
   ]
  },
  {
   "cell_type": "code",
   "execution_count": null,
   "id": "43554eb8",
   "metadata": {},
   "outputs": [],
   "source": [
    "df = df.loc[df.Year_Birth  >= 1935]\n",
    "df = df.loc[df.Income  <= 200000]\n",
    "\n",
    "df.shape"
   ]
  },
  {
   "cell_type": "markdown",
   "id": "c793a9fd",
   "metadata": {},
   "source": [
    "## 4.5 Menghapus Kolom yang Tidak diperlukan <a class=\"anchor\" id=\"cleaning_unneeded\"></a>\n",
    "\n",
    "Saat penilaian awal, kami mengamati bahwa kolom ID, Z_Revenue, dan Z_CostContact tidak memiliki tujuan yang jelas. Oleh karena itu, lebih baik jika kolom-kolom tersebut dihapus."
   ]
  },
  {
   "cell_type": "code",
   "execution_count": null,
   "id": "f1e39214",
   "metadata": {},
   "outputs": [],
   "source": [
    "df.Z_Revenue.value_counts()"
   ]
  },
  {
   "cell_type": "code",
   "execution_count": null,
   "id": "35506d88",
   "metadata": {},
   "outputs": [],
   "source": [
    "df.Z_CostContact.value_counts()"
   ]
  },
  {
   "cell_type": "markdown",
   "id": "395c137c",
   "metadata": {},
   "source": [
    "Kolom Z mengandung satu nilai untuk seluruh data, sehingga sebaiknya dihapus."
   ]
  },
  {
   "cell_type": "code",
   "execution_count": 116,
   "id": "fd2ebc46",
   "metadata": {},
   "outputs": [],
   "source": [
    "df.drop(columns=['ID', 'Z_Revenue', 'Z_CostContact'], inplace=True)"
   ]
  },
  {
   "cell_type": "markdown",
   "id": "cec86870",
   "metadata": {},
   "source": [
    "## 4.6 Penamaan Ulang Kolom <a class=\"anchor\" id=\"cleaning_rename\"></a>\n",
    "Kolom `Response` mungkin dinamai demikian untuk menunjukkan target dari kolom target model ML.<br>Namun, penamaan ini tidak membantu untuk analisis. Karena kita sudah mengetahui arti dari kolom ini, kita dapat menggantinya dengan nama yang lebih sesuai.<br>Selain itu, nama kolom `Dt_Customer` juga ambigu"
   ]
  },
  {
   "cell_type": "code",
   "execution_count": 117,
   "id": "b9d3116a",
   "metadata": {},
   "outputs": [],
   "source": [
    "df.rename(columns={'Response': 'AcceptedCmpCurrent', 'Dt_Customer':'CustomerSince'}, inplace=True)"
   ]
  },
  {
   "cell_type": "markdown",
   "id": "03797678",
   "metadata": {},
   "source": [
    "# 5 Feature Engineering <a class=\"anchor\" id=\"eng\"></a>\n",
    "Proses menciptakan fitur baru dari data yang ada untuk meningkatkan kinerja model analisis. Dalam bagian ini, kami akan menjelaskan beberapa teknik feature engineering yang diterapkan pada dataset."
   ]
  },
  {
   "cell_type": "markdown",
   "id": "a172e490",
   "metadata": {},
   "source": [
    "## 5.1 Total Jumlah Pembelian <a class=\"anchor\" id=\"eng_tot_pur\"></a>\n",
    "Kita memiliki jumlah pembelian yang dilakukan oleh seorang pelanggan di setiap outlet. Kita dapat menjumlahkan semua itu untuk mendapatkan total jumlah pembelian yang dilakukan oleh pelanggan tersebut."
   ]
  },
  {
   "cell_type": "code",
   "execution_count": null,
   "id": "a0d70874",
   "metadata": {},
   "outputs": [],
   "source": [
    "cols = ['NumWebPurchases', 'NumCatalogPurchases', 'NumStorePurchases']\n",
    "df['NumPurchases'] = df[cols].sum(axis=1)\n",
    "\n",
    "df['NumPurchases']"
   ]
  },
  {
   "cell_type": "markdown",
   "id": "4ef61a08",
   "metadata": {},
   "source": [
    "## 5.2 Jumlah Uang yang Dibelanjakan <a class=\"anchor\" id=\"eng_amt_spnt\"></a>\n",
    "Kita dapat menjumlahkan jumlah uang yang dibelanjakan di setiap kategori untuk mendapatkan total jumlah uang yang dibelanjakan oleh pelanggan."
   ]
  },
  {
   "cell_type": "code",
   "execution_count": null,
   "id": "a1ffd93f",
   "metadata": {},
   "outputs": [],
   "source": [
    "cols = ['MntWines', 'MntFruits', 'MntMeatProducts', 'MntFishProducts', 'MntSweetProducts', 'MntGoldProds']\n",
    "df['AmountSpent'] = df[cols].sum(axis=1)\n",
    "\n",
    "df['AmountSpent']\n",
    "\n"
   ]
  },
  {
   "cell_type": "markdown",
   "id": "6c972cb6",
   "metadata": {},
   "source": [
    "## 5.3 Jumlah Uang per Pembelian <a class=\"anchor\" id=\"eng_amt_pur\"></a>\n",
    "Kita kemudian dapat menggunakan fitur baru yang telah dibuat, yaitu NumPurchases dan AmountSpent, untuk mendapatkan rata-rata jumlah uang yang dibelanjakan oleh pelanggan dalam satu pembelian. Kita dapat melakukannya dengan membagi keduanya."
   ]
  },
  {
   "cell_type": "code",
   "execution_count": null,
   "id": "adec8ba6",
   "metadata": {},
   "outputs": [],
   "source": [
    "df['AmountPerPurchase'] = df['AmountSpent'] / (df['NumPurchases'] + 1e-1)\n",
    "\n",
    "df['AmountPerPurchase']"
   ]
  },
  {
   "cell_type": "markdown",
   "id": "b08efecd",
   "metadata": {},
   "source": [
    "## 5.4 Jumlah Populasi di Rumah <a class=\"anchor\" id=\"eng_person\"></a>\n",
    "Kita memiliki kolom untuk jumlah anak dan jumlah remaja. <br>Dengan menjumlahkan ini dengan 1 atau 2 tergantung pada status pernikahan, kita dapat menyimpulkan jumlah individu dalam rumah tangga."
   ]
  },
  {
   "cell_type": "code",
   "execution_count": null,
   "id": "0e733df7",
   "metadata": {},
   "outputs": [],
   "source": [
    "# Menghitung jumlah orang di rumah\n",
    "cols = ['Kidhome', 'Teenhome']\n",
    "df['PersonsInHome'] = df[cols].sum(axis=1) + 2\n",
    "\n",
    "# Mengurangi 1 untuk status pernikahan 'Single'\n",
    "df.loc[df['Marital_Status'] == 'Single', 'PersonsInHome'] -= 1\n",
    "\n",
    "df"
   ]
  },
  {
   "cell_type": "markdown",
   "id": "989a6595",
   "metadata": {},
   "source": [
    "# 6 Pra-pemrosesan <a class=\"anchor\" id=\"pre\"></a>\n",
    "Untuk menganalisis output pengelompokan di kemudian hari, kita akan menjaga data asli tetap tidak terubah."
   ]
  },
  {
   "cell_type": "code",
   "execution_count": null,
   "id": "b244c71b",
   "metadata": {},
   "outputs": [],
   "source": []
  }
 ],
 "metadata": {
  "kernelspec": {
   "display_name": "Python 3",
   "language": "python",
   "name": "python3"
  },
  "language_info": {
   "codemirror_mode": {
    "name": "ipython",
    "version": 3
   },
   "file_extension": ".py",
   "mimetype": "text/x-python",
   "name": "python",
   "nbconvert_exporter": "python",
   "pygments_lexer": "ipython3",
   "version": "3.13.0"
  }
 },
 "nbformat": 4,
 "nbformat_minor": 5
}
