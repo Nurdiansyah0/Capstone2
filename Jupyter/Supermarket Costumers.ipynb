{
 "cells": [
  {
   "cell_type": "markdown",
   "id": "4dc04c2f-4c23-4d97-8d08-db2683c78f5a",
   "metadata": {},
   "source": [
    "<h1 style=\"font-size:200%\"> <center> Supermarket Customer Segementation</center></h1>\n",
    "<hr>\n",
    "\n",
    "\n",
    "<div style=\"text-align: center;\">\n",
    "    <img src=\"../img/images.jpeg\" alt=\"Description of the image\" />\n",
    "</div>\n",
    "\n",
    "\n"
   ]
  },
  {
   "cell_type": "code",
   "execution_count": 39,
   "id": "71e8e0d3",
   "metadata": {},
   "outputs": [],
   "source": [
    "import numpy as np\n",
    "import pandas as pd\n",
    "import matplotlib.pyplot as plt\n",
    "import seaborn as sns\n",
    "import plotly.express as px\n",
    "\n",
    "from sklearn.preprocessing import LabelEncoder, StandardScaler\n",
    "from sklearn.decomposition import PCA\n",
    "\n",
    "from sklearn.cluster import KMeans, DBSCAN, AgglomerativeClustering\n",
    "\n",
    "from yellowbrick.cluster import KElbowVisualizer\n",
    "from sklearn.metrics import davies_bouldin_score, silhouette_score\n",
    "\n",
    "from flask import Flask,jsonify,request,render_template\n",
    "\n",
    "%matplotlib inline\n",
    "\n",
    "np.random.seed(7)\n",
    "plt.rcParams['figure.figsize'] = (16, 6)\n",
    "# to change default colormap\n",
    "sns.set(style=\"darkgrid\")\n",
    "sns.set_palette(\"pastel\")"
   ]
  },
  {
   "cell_type": "markdown",
   "id": "56a323b7-cbf8-4500-aabc-6895647cf4b7",
   "metadata": {
    "jp-MarkdownHeadingCollapsed": true
   },
   "source": [
    "# 1. Latar Belakang\n",
    "Sebagai jantung kehidupan sehari-hari, supermarket memiliki peran krusial dalam memenuhi aspirasi konsumen. <br>Untuk terus memanjakan pelanggan setia dan menarik minat yang lebih luas.<br>**Sebagai Data Scientist** kita bertugas membuat Sebuah supermarket berkomitmen untuk memahami secara mendalam preferensi dan perilaku belanja mereka. Dengan demikian, pengelola supermarket dapat merancang pengalaman belanja yang sesuai, memenuhi ekspektasi, dan menciptakan loyalitas yang mendalam."
   ]
  },
  {
   "cell_type": "markdown",
   "id": "c4c1646d-9733-4952-b877-a648b1fa2c65",
   "metadata": {
    "jp-MarkdownHeadingCollapsed": true
   },
   "source": [
    "## 1.1 Pernyataan Masalah\n",
    "- Memahami pola belanja: Mengidentifikasi produk apa saja yang sering dibeli, waktu pembelian, dan jumlah pembelian.\n",
    "- Mengetahui faktor yang mempengaruhi keputusan pembelian: Memahami faktor-faktor seperti harga, merek, kualitas produk, promosi, dan kenyamanan belanja yang mempengaruhi pilihan konsumen.\n",
    "- Mengidentifikasi segmen pasar: Membagi pelanggan menjadi kelompok-kelompok berdasarkan karakteristik dan preferensi yang berbeda untuk dapat memberikan penawaran yang lebih personal\n",
    "- Meningkatkan pengalaman belanja: Menyarankan produk yang sesuai dengan memahami apa yang dibutuhkan pelanggan,\n"
   ]
  },
  {
   "cell_type": "markdown",
   "id": "9a7ac65e-2efd-48e4-a8cf-16a4c1d35922",
   "metadata": {},
   "source": [
    "# 2 Ringkasan Data\n",
    "<h2 style=\"font-size:100%\">People:</h2>\n",
    "<table>\n",
    "    <tr>\n",
    "        <th>#</th>\n",
    "        <th>Feature</th>\n",
    "        <th>Description</th>\n",
    "    </tr>\n",
    "    <tr>\n",
    "        <td>1</td>\n",
    "        <td>ID</td>\n",
    "        <td>Customer's unique identifier</td>\n",
    "    </tr>\n",
    "    <tr>\n",
    "        <td>2</td>\n",
    "        <td>Year_Birth</td>\n",
    "        <td>Customer's birth year</td>\n",
    "    </tr>\n",
    "    <tr>\n",
    "        <td>3</td>\n",
    "        <td>Education</td>\n",
    "        <td>Customer's education level</td>\n",
    "    </tr>\n",
    "    <tr>\n",
    "        <td>4</td>\n",
    "        <td>Marital_Status</td>\n",
    "        <td>Customer's marital status</td>\n",
    "    </tr>\n",
    "    <tr>\n",
    "        <td>5</td>\n",
    "        <td>Income</td>\n",
    "        <td>Customer's yearly household income</td>\n",
    "    </tr>\n",
    "    <tr>\n",
    "        <td>6</td>\n",
    "        <td>Kidhome</td>\n",
    "        <td>Number of children in customer's household</td>\n",
    "    </tr>\n",
    "    <tr>\n",
    "        <td>7</td>\n",
    "        <td>Teenhome</td>\n",
    "        <td>Number of teenagers in customer's household</td>\n",
    "    </tr>\n",
    "    <tr>\n",
    "        <td>8</td>\n",
    "        <td>Dt_Customer</td>\n",
    "        <td>Date of customer's enrollment with the company</td>\n",
    "    </tr>\n",
    "    <tr>\n",
    "        <td>9</td>\n",
    "        <td>Recency</td>\n",
    "        <td>Number of days since customer's last purchase</td>\n",
    "    </tr>\n",
    "    <tr>\n",
    "        <td>10</td>\n",
    "        <td>Complain</td>\n",
    "        <td>1 if the customer complained in the last 2 years, 0 otherwise</td>\n",
    "    </tr>\n",
    "</table>\n",
    "\n",
    "<h2 style=\"font-size:100%\">Products:</h2>\n",
    "<table>\n",
    "    <tr>\n",
    "        <th>#</th>\n",
    "        <th>Feature</th>\n",
    "        <th>Description</th>\n",
    "    </tr>\n",
    "    <tr>\n",
    "        <td>11</td>\n",
    "        <td>MntWines</td>\n",
    "        <td>Amount spent on wine in last 2 years</td>\n",
    "    </tr>\n",
    "    <tr>\n",
    "        <td>12</td>\n",
    "        <td>MntFruits</td>\n",
    "        <td>Amount spent on fruits in last 2 years</td>\n",
    "    </tr>\n",
    "    <tr>\n",
    "        <td>13</td>\n",
    "        <td>MntMeatProducts</td>\n",
    "        <td>Amount spent on meat in last 2 years</td>\n",
    "    </tr>\n",
    "    <tr>\n",
    "        <td>14</td>\n",
    "        <td>MntFishProducts</td>\n",
    "        <td>Amount spent on fish in last 2 years</td>\n",
    "    </tr>\n",
    "    <tr>\n",
    "        <td>15</td>\n",
    "        <td>MntSweetProducts</td>\n",
    "        <td>Amount spent on sweets in last 2 years</td>\n",
    "    </tr>\n",
    "    <tr>\n",
    "        <td>16</td>\n",
    "        <td>MntGoldProds</td>\n",
    "        <td>Amount spent on gold in last 2 years</td>\n",
    "    </tr>\n",
    "</table>\n",
    "\n",
    "<h2 style=\"font-size:100%\">Promotion:</h2>\n",
    "<table>\n",
    "    <tr>\n",
    "        <th>#</th>\n",
    "        <th>Feature</th>\n",
    "        <th>Description</th>\n",
    "    </tr>\n",
    "    <tr>\n",
    "        <td>17</td>\n",
    "        <td>NumDealsPurchases</td>\n",
    "        <td>Number of purchases made with a discount</td>\n",
    "    </tr>\n",
    "    <tr>\n",
    "        <td>18</td>\n",
    "        <td>AcceptedCmp1</td>\n",
    "        <td>1 if customer accepted the offer in the 1st campaign, 0 otherwise</td>\n",
    "    </tr>\n",
    "    <tr>\n",
    "        <td>19</td>\n",
    "        <td>AcceptedCmp2</td>\n",
    "        <td>1 if customer accepted the offer in the 2nd campaign, 0 otherwise</td>\n",
    "    </tr>\n",
    "    <tr>\n",
    "        <td>20</td>\n",
    "        <td>AcceptedCmp3</td>\n",
    "        <td>1 if customer accepted the offer in the 3rd campaign, 0 otherwise</td>\n",
    "    </tr>\n",
    "    <tr>\n",
    "        <td>21</td>\n",
    "        <td>AcceptedCmp4</td>\n",
    "        <td>1 if customer accepted the offer in the 4th campaign, 0 otherwise</td>\n",
    "</table>\n",
    "   "
   ]
  },
  {
   "cell_type": "markdown",
   "id": "73679abb",
   "metadata": {},
   "source": [
    "## 2.1 Data Set"
   ]
  },
  {
   "cell_type": "code",
   "execution_count": 1,
   "id": "8f4e38d2-0cf0-44af-8575-60fb579154f3",
   "metadata": {},
   "outputs": [
    {
     "data": {
      "text/html": [
       "<div>\n",
       "<style scoped>\n",
       "    .dataframe tbody tr th:only-of-type {\n",
       "        vertical-align: middle;\n",
       "    }\n",
       "\n",
       "    .dataframe tbody tr th {\n",
       "        vertical-align: top;\n",
       "    }\n",
       "\n",
       "    .dataframe thead th {\n",
       "        text-align: right;\n",
       "    }\n",
       "</style>\n",
       "<table border=\"1\" class=\"dataframe\">\n",
       "  <thead>\n",
       "    <tr style=\"text-align: right;\">\n",
       "      <th></th>\n",
       "      <th>ID</th>\n",
       "      <th>Year_Birth</th>\n",
       "      <th>Education</th>\n",
       "      <th>Marital_Status</th>\n",
       "      <th>Income</th>\n",
       "      <th>Kidhome</th>\n",
       "      <th>Teenhome</th>\n",
       "      <th>Dt_Customer</th>\n",
       "      <th>Recency</th>\n",
       "      <th>MntWines</th>\n",
       "      <th>...</th>\n",
       "      <th>NumWebVisitsMonth</th>\n",
       "      <th>AcceptedCmp3</th>\n",
       "      <th>AcceptedCmp4</th>\n",
       "      <th>AcceptedCmp5</th>\n",
       "      <th>AcceptedCmp1</th>\n",
       "      <th>AcceptedCmp2</th>\n",
       "      <th>Complain</th>\n",
       "      <th>Z_CostContact</th>\n",
       "      <th>Z_Revenue</th>\n",
       "      <th>Response</th>\n",
       "    </tr>\n",
       "  </thead>\n",
       "  <tbody>\n",
       "    <tr>\n",
       "      <th>0</th>\n",
       "      <td>5524</td>\n",
       "      <td>1957</td>\n",
       "      <td>Graduation</td>\n",
       "      <td>Single</td>\n",
       "      <td>58138.0</td>\n",
       "      <td>0</td>\n",
       "      <td>0</td>\n",
       "      <td>04-09-2012</td>\n",
       "      <td>58</td>\n",
       "      <td>635</td>\n",
       "      <td>...</td>\n",
       "      <td>7</td>\n",
       "      <td>0</td>\n",
       "      <td>0</td>\n",
       "      <td>0</td>\n",
       "      <td>0</td>\n",
       "      <td>0</td>\n",
       "      <td>0</td>\n",
       "      <td>3</td>\n",
       "      <td>11</td>\n",
       "      <td>1</td>\n",
       "    </tr>\n",
       "    <tr>\n",
       "      <th>1</th>\n",
       "      <td>2174</td>\n",
       "      <td>1954</td>\n",
       "      <td>Graduation</td>\n",
       "      <td>Single</td>\n",
       "      <td>46344.0</td>\n",
       "      <td>1</td>\n",
       "      <td>1</td>\n",
       "      <td>08-03-2014</td>\n",
       "      <td>38</td>\n",
       "      <td>11</td>\n",
       "      <td>...</td>\n",
       "      <td>5</td>\n",
       "      <td>0</td>\n",
       "      <td>0</td>\n",
       "      <td>0</td>\n",
       "      <td>0</td>\n",
       "      <td>0</td>\n",
       "      <td>0</td>\n",
       "      <td>3</td>\n",
       "      <td>11</td>\n",
       "      <td>0</td>\n",
       "    </tr>\n",
       "    <tr>\n",
       "      <th>2</th>\n",
       "      <td>4141</td>\n",
       "      <td>1965</td>\n",
       "      <td>Graduation</td>\n",
       "      <td>Together</td>\n",
       "      <td>71613.0</td>\n",
       "      <td>0</td>\n",
       "      <td>0</td>\n",
       "      <td>21-08-2013</td>\n",
       "      <td>26</td>\n",
       "      <td>426</td>\n",
       "      <td>...</td>\n",
       "      <td>4</td>\n",
       "      <td>0</td>\n",
       "      <td>0</td>\n",
       "      <td>0</td>\n",
       "      <td>0</td>\n",
       "      <td>0</td>\n",
       "      <td>0</td>\n",
       "      <td>3</td>\n",
       "      <td>11</td>\n",
       "      <td>0</td>\n",
       "    </tr>\n",
       "    <tr>\n",
       "      <th>3</th>\n",
       "      <td>6182</td>\n",
       "      <td>1984</td>\n",
       "      <td>Graduation</td>\n",
       "      <td>Together</td>\n",
       "      <td>26646.0</td>\n",
       "      <td>1</td>\n",
       "      <td>0</td>\n",
       "      <td>10-02-2014</td>\n",
       "      <td>26</td>\n",
       "      <td>11</td>\n",
       "      <td>...</td>\n",
       "      <td>6</td>\n",
       "      <td>0</td>\n",
       "      <td>0</td>\n",
       "      <td>0</td>\n",
       "      <td>0</td>\n",
       "      <td>0</td>\n",
       "      <td>0</td>\n",
       "      <td>3</td>\n",
       "      <td>11</td>\n",
       "      <td>0</td>\n",
       "    </tr>\n",
       "    <tr>\n",
       "      <th>4</th>\n",
       "      <td>5324</td>\n",
       "      <td>1981</td>\n",
       "      <td>PhD</td>\n",
       "      <td>Married</td>\n",
       "      <td>58293.0</td>\n",
       "      <td>1</td>\n",
       "      <td>0</td>\n",
       "      <td>19-01-2014</td>\n",
       "      <td>94</td>\n",
       "      <td>173</td>\n",
       "      <td>...</td>\n",
       "      <td>5</td>\n",
       "      <td>0</td>\n",
       "      <td>0</td>\n",
       "      <td>0</td>\n",
       "      <td>0</td>\n",
       "      <td>0</td>\n",
       "      <td>0</td>\n",
       "      <td>3</td>\n",
       "      <td>11</td>\n",
       "      <td>0</td>\n",
       "    </tr>\n",
       "  </tbody>\n",
       "</table>\n",
       "<p>5 rows × 29 columns</p>\n",
       "</div>"
      ],
      "text/plain": [
       "     ID  Year_Birth   Education Marital_Status   Income  Kidhome  Teenhome  \\\n",
       "0  5524        1957  Graduation         Single  58138.0        0         0   \n",
       "1  2174        1954  Graduation         Single  46344.0        1         1   \n",
       "2  4141        1965  Graduation       Together  71613.0        0         0   \n",
       "3  6182        1984  Graduation       Together  26646.0        1         0   \n",
       "4  5324        1981         PhD        Married  58293.0        1         0   \n",
       "\n",
       "  Dt_Customer  Recency  MntWines  ...  NumWebVisitsMonth  AcceptedCmp3  \\\n",
       "0  04-09-2012       58       635  ...                  7             0   \n",
       "1  08-03-2014       38        11  ...                  5             0   \n",
       "2  21-08-2013       26       426  ...                  4             0   \n",
       "3  10-02-2014       26        11  ...                  6             0   \n",
       "4  19-01-2014       94       173  ...                  5             0   \n",
       "\n",
       "   AcceptedCmp4  AcceptedCmp5  AcceptedCmp1  AcceptedCmp2  Complain  \\\n",
       "0             0             0             0             0         0   \n",
       "1             0             0             0             0         0   \n",
       "2             0             0             0             0         0   \n",
       "3             0             0             0             0         0   \n",
       "4             0             0             0             0         0   \n",
       "\n",
       "   Z_CostContact  Z_Revenue  Response  \n",
       "0              3         11         1  \n",
       "1              3         11         0  \n",
       "2              3         11         0  \n",
       "3              3         11         0  \n",
       "4              3         11         0  \n",
       "\n",
       "[5 rows x 29 columns]"
      ]
     },
     "metadata": {},
     "output_type": "display_data"
    },
    {
     "data": {
      "text/html": [
       "<div>\n",
       "<style scoped>\n",
       "    .dataframe tbody tr th:only-of-type {\n",
       "        vertical-align: middle;\n",
       "    }\n",
       "\n",
       "    .dataframe tbody tr th {\n",
       "        vertical-align: top;\n",
       "    }\n",
       "\n",
       "    .dataframe thead th {\n",
       "        text-align: right;\n",
       "    }\n",
       "</style>\n",
       "<table border=\"1\" class=\"dataframe\">\n",
       "  <thead>\n",
       "    <tr style=\"text-align: right;\">\n",
       "      <th></th>\n",
       "      <th>ID</th>\n",
       "      <th>Year_Birth</th>\n",
       "      <th>Education</th>\n",
       "      <th>Marital_Status</th>\n",
       "      <th>Income</th>\n",
       "      <th>Kidhome</th>\n",
       "      <th>Teenhome</th>\n",
       "      <th>Dt_Customer</th>\n",
       "      <th>Recency</th>\n",
       "      <th>MntWines</th>\n",
       "      <th>...</th>\n",
       "      <th>NumWebVisitsMonth</th>\n",
       "      <th>AcceptedCmp3</th>\n",
       "      <th>AcceptedCmp4</th>\n",
       "      <th>AcceptedCmp5</th>\n",
       "      <th>AcceptedCmp1</th>\n",
       "      <th>AcceptedCmp2</th>\n",
       "      <th>Complain</th>\n",
       "      <th>Z_CostContact</th>\n",
       "      <th>Z_Revenue</th>\n",
       "      <th>Response</th>\n",
       "    </tr>\n",
       "  </thead>\n",
       "  <tbody>\n",
       "    <tr>\n",
       "      <th>2235</th>\n",
       "      <td>10870</td>\n",
       "      <td>1967</td>\n",
       "      <td>Graduation</td>\n",
       "      <td>Married</td>\n",
       "      <td>61223.0</td>\n",
       "      <td>0</td>\n",
       "      <td>1</td>\n",
       "      <td>13-06-2013</td>\n",
       "      <td>46</td>\n",
       "      <td>709</td>\n",
       "      <td>...</td>\n",
       "      <td>5</td>\n",
       "      <td>0</td>\n",
       "      <td>0</td>\n",
       "      <td>0</td>\n",
       "      <td>0</td>\n",
       "      <td>0</td>\n",
       "      <td>0</td>\n",
       "      <td>3</td>\n",
       "      <td>11</td>\n",
       "      <td>0</td>\n",
       "    </tr>\n",
       "    <tr>\n",
       "      <th>2236</th>\n",
       "      <td>4001</td>\n",
       "      <td>1946</td>\n",
       "      <td>PhD</td>\n",
       "      <td>Together</td>\n",
       "      <td>64014.0</td>\n",
       "      <td>2</td>\n",
       "      <td>1</td>\n",
       "      <td>10-06-2014</td>\n",
       "      <td>56</td>\n",
       "      <td>406</td>\n",
       "      <td>...</td>\n",
       "      <td>7</td>\n",
       "      <td>0</td>\n",
       "      <td>0</td>\n",
       "      <td>0</td>\n",
       "      <td>1</td>\n",
       "      <td>0</td>\n",
       "      <td>0</td>\n",
       "      <td>3</td>\n",
       "      <td>11</td>\n",
       "      <td>0</td>\n",
       "    </tr>\n",
       "    <tr>\n",
       "      <th>2237</th>\n",
       "      <td>7270</td>\n",
       "      <td>1981</td>\n",
       "      <td>Graduation</td>\n",
       "      <td>Divorced</td>\n",
       "      <td>56981.0</td>\n",
       "      <td>0</td>\n",
       "      <td>0</td>\n",
       "      <td>25-01-2014</td>\n",
       "      <td>91</td>\n",
       "      <td>908</td>\n",
       "      <td>...</td>\n",
       "      <td>6</td>\n",
       "      <td>0</td>\n",
       "      <td>1</td>\n",
       "      <td>0</td>\n",
       "      <td>0</td>\n",
       "      <td>0</td>\n",
       "      <td>0</td>\n",
       "      <td>3</td>\n",
       "      <td>11</td>\n",
       "      <td>0</td>\n",
       "    </tr>\n",
       "    <tr>\n",
       "      <th>2238</th>\n",
       "      <td>8235</td>\n",
       "      <td>1956</td>\n",
       "      <td>Master</td>\n",
       "      <td>Together</td>\n",
       "      <td>69245.0</td>\n",
       "      <td>0</td>\n",
       "      <td>1</td>\n",
       "      <td>24-01-2014</td>\n",
       "      <td>8</td>\n",
       "      <td>428</td>\n",
       "      <td>...</td>\n",
       "      <td>3</td>\n",
       "      <td>0</td>\n",
       "      <td>0</td>\n",
       "      <td>0</td>\n",
       "      <td>0</td>\n",
       "      <td>0</td>\n",
       "      <td>0</td>\n",
       "      <td>3</td>\n",
       "      <td>11</td>\n",
       "      <td>0</td>\n",
       "    </tr>\n",
       "    <tr>\n",
       "      <th>2239</th>\n",
       "      <td>9405</td>\n",
       "      <td>1954</td>\n",
       "      <td>PhD</td>\n",
       "      <td>Married</td>\n",
       "      <td>52869.0</td>\n",
       "      <td>1</td>\n",
       "      <td>1</td>\n",
       "      <td>15-10-2012</td>\n",
       "      <td>40</td>\n",
       "      <td>84</td>\n",
       "      <td>...</td>\n",
       "      <td>7</td>\n",
       "      <td>0</td>\n",
       "      <td>0</td>\n",
       "      <td>0</td>\n",
       "      <td>0</td>\n",
       "      <td>0</td>\n",
       "      <td>0</td>\n",
       "      <td>3</td>\n",
       "      <td>11</td>\n",
       "      <td>1</td>\n",
       "    </tr>\n",
       "  </tbody>\n",
       "</table>\n",
       "<p>5 rows × 29 columns</p>\n",
       "</div>"
      ],
      "text/plain": [
       "         ID  Year_Birth   Education Marital_Status   Income  Kidhome  \\\n",
       "2235  10870        1967  Graduation        Married  61223.0        0   \n",
       "2236   4001        1946         PhD       Together  64014.0        2   \n",
       "2237   7270        1981  Graduation       Divorced  56981.0        0   \n",
       "2238   8235        1956      Master       Together  69245.0        0   \n",
       "2239   9405        1954         PhD        Married  52869.0        1   \n",
       "\n",
       "      Teenhome Dt_Customer  Recency  MntWines  ...  NumWebVisitsMonth  \\\n",
       "2235         1  13-06-2013       46       709  ...                  5   \n",
       "2236         1  10-06-2014       56       406  ...                  7   \n",
       "2237         0  25-01-2014       91       908  ...                  6   \n",
       "2238         1  24-01-2014        8       428  ...                  3   \n",
       "2239         1  15-10-2012       40        84  ...                  7   \n",
       "\n",
       "      AcceptedCmp3  AcceptedCmp4  AcceptedCmp5  AcceptedCmp1  AcceptedCmp2  \\\n",
       "2235             0             0             0             0             0   \n",
       "2236             0             0             0             1             0   \n",
       "2237             0             1             0             0             0   \n",
       "2238             0             0             0             0             0   \n",
       "2239             0             0             0             0             0   \n",
       "\n",
       "      Complain  Z_CostContact  Z_Revenue  Response  \n",
       "2235         0              3         11         0  \n",
       "2236         0              3         11         0  \n",
       "2237         0              3         11         0  \n",
       "2238         0              3         11         0  \n",
       "2239         0              3         11         1  \n",
       "\n",
       "[5 rows x 29 columns]"
      ]
     },
     "metadata": {},
     "output_type": "display_data"
    }
   ],
   "source": [
    "scm = pd.read_csv('Supermarket Customers.csv', delimiter =\"\\t\")\n",
    "df = scm.copy()\n",
    "display(df.head(), df.tail())"
   ]
  },
  {
   "cell_type": "markdown",
   "id": "55a7ae09",
   "metadata": {},
   "source": [
    "## 2.2 Informasi Data Supermarket"
   ]
  },
  {
   "cell_type": "code",
   "execution_count": 2,
   "id": "bf7ef6b5-bede-4164-a204-62df7fd060c6",
   "metadata": {},
   "outputs": [
    {
     "name": "stdout",
     "output_type": "stream",
     "text": [
      "Jumlah baris dan kolom di dataset Supermarket Costumers adalah (2240, 29)\n",
      "<class 'pandas.core.frame.DataFrame'>\n",
      "RangeIndex: 2240 entries, 0 to 2239\n",
      "Data columns (total 29 columns):\n",
      " #   Column               Non-Null Count  Dtype  \n",
      "---  ------               --------------  -----  \n",
      " 0   ID                   2240 non-null   int64  \n",
      " 1   Year_Birth           2240 non-null   int64  \n",
      " 2   Education            2240 non-null   object \n",
      " 3   Marital_Status       2240 non-null   object \n",
      " 4   Income               2216 non-null   float64\n",
      " 5   Kidhome              2240 non-null   int64  \n",
      " 6   Teenhome             2240 non-null   int64  \n",
      " 7   Dt_Customer          2240 non-null   object \n",
      " 8   Recency              2240 non-null   int64  \n",
      " 9   MntWines             2240 non-null   int64  \n",
      " 10  MntFruits            2240 non-null   int64  \n",
      " 11  MntMeatProducts      2240 non-null   int64  \n",
      " 12  MntFishProducts      2240 non-null   int64  \n",
      " 13  MntSweetProducts     2240 non-null   int64  \n",
      " 14  MntGoldProds         2240 non-null   int64  \n",
      " 15  NumDealsPurchases    2240 non-null   int64  \n",
      " 16  NumWebPurchases      2240 non-null   int64  \n",
      " 17  NumCatalogPurchases  2240 non-null   int64  \n",
      " 18  NumStorePurchases    2240 non-null   int64  \n",
      " 19  NumWebVisitsMonth    2240 non-null   int64  \n",
      " 20  AcceptedCmp3         2240 non-null   int64  \n",
      " 21  AcceptedCmp4         2240 non-null   int64  \n",
      " 22  AcceptedCmp5         2240 non-null   int64  \n",
      " 23  AcceptedCmp1         2240 non-null   int64  \n",
      " 24  AcceptedCmp2         2240 non-null   int64  \n",
      " 25  Complain             2240 non-null   int64  \n",
      " 26  Z_CostContact        2240 non-null   int64  \n",
      " 27  Z_Revenue            2240 non-null   int64  \n",
      " 28  Response             2240 non-null   int64  \n",
      "dtypes: float64(1), int64(25), object(3)\n",
      "memory usage: 507.6+ KB\n"
     ]
    }
   ],
   "source": [
    "print(f'Jumlah baris dan kolom di dataset Supermarket Costumers adalah {df.shape}')\n",
    "df.info()"
   ]
  },
  {
   "cell_type": "markdown",
   "id": "8c5a4a41",
   "metadata": {},
   "source": [
    "## 2.3 Deskripsi Data Numerik"
   ]
  },
  {
   "cell_type": "code",
   "execution_count": 3,
   "id": "040670dd",
   "metadata": {},
   "outputs": [
    {
     "data": {
      "text/html": [
       "<div>\n",
       "<style scoped>\n",
       "    .dataframe tbody tr th:only-of-type {\n",
       "        vertical-align: middle;\n",
       "    }\n",
       "\n",
       "    .dataframe tbody tr th {\n",
       "        vertical-align: top;\n",
       "    }\n",
       "\n",
       "    .dataframe thead th {\n",
       "        text-align: right;\n",
       "    }\n",
       "</style>\n",
       "<table border=\"1\" class=\"dataframe\">\n",
       "  <thead>\n",
       "    <tr style=\"text-align: right;\">\n",
       "      <th></th>\n",
       "      <th>ID</th>\n",
       "      <th>Year_Birth</th>\n",
       "      <th>Income</th>\n",
       "      <th>Kidhome</th>\n",
       "      <th>Teenhome</th>\n",
       "      <th>Recency</th>\n",
       "      <th>MntWines</th>\n",
       "      <th>MntFruits</th>\n",
       "      <th>MntMeatProducts</th>\n",
       "      <th>MntFishProducts</th>\n",
       "      <th>...</th>\n",
       "      <th>NumWebVisitsMonth</th>\n",
       "      <th>AcceptedCmp3</th>\n",
       "      <th>AcceptedCmp4</th>\n",
       "      <th>AcceptedCmp5</th>\n",
       "      <th>AcceptedCmp1</th>\n",
       "      <th>AcceptedCmp2</th>\n",
       "      <th>Complain</th>\n",
       "      <th>Z_CostContact</th>\n",
       "      <th>Z_Revenue</th>\n",
       "      <th>Response</th>\n",
       "    </tr>\n",
       "  </thead>\n",
       "  <tbody>\n",
       "    <tr>\n",
       "      <th>count</th>\n",
       "      <td>2240.000000</td>\n",
       "      <td>2240.000000</td>\n",
       "      <td>2216.000000</td>\n",
       "      <td>2240.000000</td>\n",
       "      <td>2240.000000</td>\n",
       "      <td>2240.000000</td>\n",
       "      <td>2240.000000</td>\n",
       "      <td>2240.000000</td>\n",
       "      <td>2240.000000</td>\n",
       "      <td>2240.000000</td>\n",
       "      <td>...</td>\n",
       "      <td>2240.000000</td>\n",
       "      <td>2240.000000</td>\n",
       "      <td>2240.000000</td>\n",
       "      <td>2240.000000</td>\n",
       "      <td>2240.000000</td>\n",
       "      <td>2240.000000</td>\n",
       "      <td>2240.000000</td>\n",
       "      <td>2240.0</td>\n",
       "      <td>2240.0</td>\n",
       "      <td>2240.000000</td>\n",
       "    </tr>\n",
       "    <tr>\n",
       "      <th>mean</th>\n",
       "      <td>5592.159821</td>\n",
       "      <td>1968.805804</td>\n",
       "      <td>52247.251354</td>\n",
       "      <td>0.444196</td>\n",
       "      <td>0.506250</td>\n",
       "      <td>49.109375</td>\n",
       "      <td>303.935714</td>\n",
       "      <td>26.302232</td>\n",
       "      <td>166.950000</td>\n",
       "      <td>37.525446</td>\n",
       "      <td>...</td>\n",
       "      <td>5.316518</td>\n",
       "      <td>0.072768</td>\n",
       "      <td>0.074554</td>\n",
       "      <td>0.072768</td>\n",
       "      <td>0.064286</td>\n",
       "      <td>0.013393</td>\n",
       "      <td>0.009375</td>\n",
       "      <td>3.0</td>\n",
       "      <td>11.0</td>\n",
       "      <td>0.149107</td>\n",
       "    </tr>\n",
       "    <tr>\n",
       "      <th>std</th>\n",
       "      <td>3246.662198</td>\n",
       "      <td>11.984069</td>\n",
       "      <td>25173.076661</td>\n",
       "      <td>0.538398</td>\n",
       "      <td>0.544538</td>\n",
       "      <td>28.962453</td>\n",
       "      <td>336.597393</td>\n",
       "      <td>39.773434</td>\n",
       "      <td>225.715373</td>\n",
       "      <td>54.628979</td>\n",
       "      <td>...</td>\n",
       "      <td>2.426645</td>\n",
       "      <td>0.259813</td>\n",
       "      <td>0.262728</td>\n",
       "      <td>0.259813</td>\n",
       "      <td>0.245316</td>\n",
       "      <td>0.114976</td>\n",
       "      <td>0.096391</td>\n",
       "      <td>0.0</td>\n",
       "      <td>0.0</td>\n",
       "      <td>0.356274</td>\n",
       "    </tr>\n",
       "    <tr>\n",
       "      <th>min</th>\n",
       "      <td>0.000000</td>\n",
       "      <td>1893.000000</td>\n",
       "      <td>1730.000000</td>\n",
       "      <td>0.000000</td>\n",
       "      <td>0.000000</td>\n",
       "      <td>0.000000</td>\n",
       "      <td>0.000000</td>\n",
       "      <td>0.000000</td>\n",
       "      <td>0.000000</td>\n",
       "      <td>0.000000</td>\n",
       "      <td>...</td>\n",
       "      <td>0.000000</td>\n",
       "      <td>0.000000</td>\n",
       "      <td>0.000000</td>\n",
       "      <td>0.000000</td>\n",
       "      <td>0.000000</td>\n",
       "      <td>0.000000</td>\n",
       "      <td>0.000000</td>\n",
       "      <td>3.0</td>\n",
       "      <td>11.0</td>\n",
       "      <td>0.000000</td>\n",
       "    </tr>\n",
       "    <tr>\n",
       "      <th>25%</th>\n",
       "      <td>2828.250000</td>\n",
       "      <td>1959.000000</td>\n",
       "      <td>35303.000000</td>\n",
       "      <td>0.000000</td>\n",
       "      <td>0.000000</td>\n",
       "      <td>24.000000</td>\n",
       "      <td>23.750000</td>\n",
       "      <td>1.000000</td>\n",
       "      <td>16.000000</td>\n",
       "      <td>3.000000</td>\n",
       "      <td>...</td>\n",
       "      <td>3.000000</td>\n",
       "      <td>0.000000</td>\n",
       "      <td>0.000000</td>\n",
       "      <td>0.000000</td>\n",
       "      <td>0.000000</td>\n",
       "      <td>0.000000</td>\n",
       "      <td>0.000000</td>\n",
       "      <td>3.0</td>\n",
       "      <td>11.0</td>\n",
       "      <td>0.000000</td>\n",
       "    </tr>\n",
       "    <tr>\n",
       "      <th>50%</th>\n",
       "      <td>5458.500000</td>\n",
       "      <td>1970.000000</td>\n",
       "      <td>51381.500000</td>\n",
       "      <td>0.000000</td>\n",
       "      <td>0.000000</td>\n",
       "      <td>49.000000</td>\n",
       "      <td>173.500000</td>\n",
       "      <td>8.000000</td>\n",
       "      <td>67.000000</td>\n",
       "      <td>12.000000</td>\n",
       "      <td>...</td>\n",
       "      <td>6.000000</td>\n",
       "      <td>0.000000</td>\n",
       "      <td>0.000000</td>\n",
       "      <td>0.000000</td>\n",
       "      <td>0.000000</td>\n",
       "      <td>0.000000</td>\n",
       "      <td>0.000000</td>\n",
       "      <td>3.0</td>\n",
       "      <td>11.0</td>\n",
       "      <td>0.000000</td>\n",
       "    </tr>\n",
       "    <tr>\n",
       "      <th>75%</th>\n",
       "      <td>8427.750000</td>\n",
       "      <td>1977.000000</td>\n",
       "      <td>68522.000000</td>\n",
       "      <td>1.000000</td>\n",
       "      <td>1.000000</td>\n",
       "      <td>74.000000</td>\n",
       "      <td>504.250000</td>\n",
       "      <td>33.000000</td>\n",
       "      <td>232.000000</td>\n",
       "      <td>50.000000</td>\n",
       "      <td>...</td>\n",
       "      <td>7.000000</td>\n",
       "      <td>0.000000</td>\n",
       "      <td>0.000000</td>\n",
       "      <td>0.000000</td>\n",
       "      <td>0.000000</td>\n",
       "      <td>0.000000</td>\n",
       "      <td>0.000000</td>\n",
       "      <td>3.0</td>\n",
       "      <td>11.0</td>\n",
       "      <td>0.000000</td>\n",
       "    </tr>\n",
       "    <tr>\n",
       "      <th>max</th>\n",
       "      <td>11191.000000</td>\n",
       "      <td>1996.000000</td>\n",
       "      <td>666666.000000</td>\n",
       "      <td>2.000000</td>\n",
       "      <td>2.000000</td>\n",
       "      <td>99.000000</td>\n",
       "      <td>1493.000000</td>\n",
       "      <td>199.000000</td>\n",
       "      <td>1725.000000</td>\n",
       "      <td>259.000000</td>\n",
       "      <td>...</td>\n",
       "      <td>20.000000</td>\n",
       "      <td>1.000000</td>\n",
       "      <td>1.000000</td>\n",
       "      <td>1.000000</td>\n",
       "      <td>1.000000</td>\n",
       "      <td>1.000000</td>\n",
       "      <td>1.000000</td>\n",
       "      <td>3.0</td>\n",
       "      <td>11.0</td>\n",
       "      <td>1.000000</td>\n",
       "    </tr>\n",
       "  </tbody>\n",
       "</table>\n",
       "<p>8 rows × 26 columns</p>\n",
       "</div>"
      ],
      "text/plain": [
       "                 ID   Year_Birth         Income      Kidhome     Teenhome  \\\n",
       "count   2240.000000  2240.000000    2216.000000  2240.000000  2240.000000   \n",
       "mean    5592.159821  1968.805804   52247.251354     0.444196     0.506250   \n",
       "std     3246.662198    11.984069   25173.076661     0.538398     0.544538   \n",
       "min        0.000000  1893.000000    1730.000000     0.000000     0.000000   \n",
       "25%     2828.250000  1959.000000   35303.000000     0.000000     0.000000   \n",
       "50%     5458.500000  1970.000000   51381.500000     0.000000     0.000000   \n",
       "75%     8427.750000  1977.000000   68522.000000     1.000000     1.000000   \n",
       "max    11191.000000  1996.000000  666666.000000     2.000000     2.000000   \n",
       "\n",
       "           Recency     MntWines    MntFruits  MntMeatProducts  \\\n",
       "count  2240.000000  2240.000000  2240.000000      2240.000000   \n",
       "mean     49.109375   303.935714    26.302232       166.950000   \n",
       "std      28.962453   336.597393    39.773434       225.715373   \n",
       "min       0.000000     0.000000     0.000000         0.000000   \n",
       "25%      24.000000    23.750000     1.000000        16.000000   \n",
       "50%      49.000000   173.500000     8.000000        67.000000   \n",
       "75%      74.000000   504.250000    33.000000       232.000000   \n",
       "max      99.000000  1493.000000   199.000000      1725.000000   \n",
       "\n",
       "       MntFishProducts  ...  NumWebVisitsMonth  AcceptedCmp3  AcceptedCmp4  \\\n",
       "count      2240.000000  ...        2240.000000   2240.000000   2240.000000   \n",
       "mean         37.525446  ...           5.316518      0.072768      0.074554   \n",
       "std          54.628979  ...           2.426645      0.259813      0.262728   \n",
       "min           0.000000  ...           0.000000      0.000000      0.000000   \n",
       "25%           3.000000  ...           3.000000      0.000000      0.000000   \n",
       "50%          12.000000  ...           6.000000      0.000000      0.000000   \n",
       "75%          50.000000  ...           7.000000      0.000000      0.000000   \n",
       "max         259.000000  ...          20.000000      1.000000      1.000000   \n",
       "\n",
       "       AcceptedCmp5  AcceptedCmp1  AcceptedCmp2     Complain  Z_CostContact  \\\n",
       "count   2240.000000   2240.000000   2240.000000  2240.000000         2240.0   \n",
       "mean       0.072768      0.064286      0.013393     0.009375            3.0   \n",
       "std        0.259813      0.245316      0.114976     0.096391            0.0   \n",
       "min        0.000000      0.000000      0.000000     0.000000            3.0   \n",
       "25%        0.000000      0.000000      0.000000     0.000000            3.0   \n",
       "50%        0.000000      0.000000      0.000000     0.000000            3.0   \n",
       "75%        0.000000      0.000000      0.000000     0.000000            3.0   \n",
       "max        1.000000      1.000000      1.000000     1.000000            3.0   \n",
       "\n",
       "       Z_Revenue     Response  \n",
       "count     2240.0  2240.000000  \n",
       "mean        11.0     0.149107  \n",
       "std          0.0     0.356274  \n",
       "min         11.0     0.000000  \n",
       "25%         11.0     0.000000  \n",
       "50%         11.0     0.000000  \n",
       "75%         11.0     0.000000  \n",
       "max         11.0     1.000000  \n",
       "\n",
       "[8 rows x 26 columns]"
      ]
     },
     "execution_count": 3,
     "metadata": {},
     "output_type": "execute_result"
    }
   ],
   "source": [
    "df.describe()"
   ]
  },
  {
   "cell_type": "markdown",
   "id": "b842c9e8",
   "metadata": {},
   "source": [
    "## 2.4 Deskripsi Data Object"
   ]
  },
  {
   "cell_type": "code",
   "execution_count": 4,
   "id": "5213013d",
   "metadata": {},
   "outputs": [
    {
     "data": {
      "text/html": [
       "<div>\n",
       "<style scoped>\n",
       "    .dataframe tbody tr th:only-of-type {\n",
       "        vertical-align: middle;\n",
       "    }\n",
       "\n",
       "    .dataframe tbody tr th {\n",
       "        vertical-align: top;\n",
       "    }\n",
       "\n",
       "    .dataframe thead th {\n",
       "        text-align: right;\n",
       "    }\n",
       "</style>\n",
       "<table border=\"1\" class=\"dataframe\">\n",
       "  <thead>\n",
       "    <tr style=\"text-align: right;\">\n",
       "      <th></th>\n",
       "      <th>Education</th>\n",
       "      <th>Marital_Status</th>\n",
       "      <th>Dt_Customer</th>\n",
       "    </tr>\n",
       "  </thead>\n",
       "  <tbody>\n",
       "    <tr>\n",
       "      <th>count</th>\n",
       "      <td>2240</td>\n",
       "      <td>2240</td>\n",
       "      <td>2240</td>\n",
       "    </tr>\n",
       "    <tr>\n",
       "      <th>unique</th>\n",
       "      <td>5</td>\n",
       "      <td>8</td>\n",
       "      <td>663</td>\n",
       "    </tr>\n",
       "    <tr>\n",
       "      <th>top</th>\n",
       "      <td>Graduation</td>\n",
       "      <td>Married</td>\n",
       "      <td>31-08-2012</td>\n",
       "    </tr>\n",
       "    <tr>\n",
       "      <th>freq</th>\n",
       "      <td>1127</td>\n",
       "      <td>864</td>\n",
       "      <td>12</td>\n",
       "    </tr>\n",
       "  </tbody>\n",
       "</table>\n",
       "</div>"
      ],
      "text/plain": [
       "         Education Marital_Status Dt_Customer\n",
       "count         2240           2240        2240\n",
       "unique           5              8         663\n",
       "top     Graduation        Married  31-08-2012\n",
       "freq          1127            864          12"
      ]
     },
     "execution_count": 4,
     "metadata": {},
     "output_type": "execute_result"
    }
   ],
   "source": [
    "df.describe(include='object')"
   ]
  },
  {
   "cell_type": "markdown",
   "id": "04902ccb",
   "metadata": {},
   "source": [
    "## 2.5 Pengujian Data Awal\n",
    "Dapat disimpulkan bahwa :\n",
    "- Dari deskripsi numerik, kita melihat bahwa kolom tahun lahir dan pendapatan mengandung outlier ekstrem yang harus kita tangani.\n",
    "- Kolom `Z_CostContact` dan `Z_Revenue` hanya berisi satu nilai, oleh karena itu sepertinya bisa dihapus. Kemudian, kolom `ID` tidak akan membantu kita dalam analisis dan harus dihapus juga.\n",
    "Dan Juga kolom `Income` mengandung sejumlah kecil nilai yang hilang."
   ]
  },
  {
   "cell_type": "markdown",
   "id": "4ca7b1df",
   "metadata": {},
   "source": [
    "# 3. EDA\n",
    "Exploratory Data Analysis (EDA) adalah langkah penting dalam memahami data sebelum melakukan analisis lebih lanjut. Berikut adalah beberapa langkah yang dilakukan dalam EDA:\n",
    "\n",
    "- Pemeriksaan Data: Memeriksa data untuk menemukan nilai yang hilang, duplikat, dan anomali. Ini penting untuk memastikan kualitas data yang akan dianalisis.\n",
    "\n",
    "- Statistik Deskriptif: Menghitung statistik deskriptif seperti rata-rata, median, modus, dan distribusi untuk setiap fitur. Ini memberikan gambaran umum tentang data.\n",
    "\n",
    "- Visualisasi Data: Menggunakan grafik dan diagram untuk memvisualisasikan hubungan antara variabel. Misalnya, menggunakan histogram untuk melihat distribusi pengeluaran pelanggan atau diagram batang untuk membandingkan jumlah pembelian berdasarkan kategori produk.\n",
    "\n",
    "- Analisis Korelasi: Menghitung korelasi antara variabel untuk memahami hubungan antara pengeluaran dan faktor-faktor lain seperti pendapatan dan promosi. Ini membantu dalam mengidentifikasi faktor-faktor yang mempengaruhi keputusan pembelian.\n",
    "\n",
    "- Segmentasi Pelanggan: Mengelompokkan pelanggan berdasarkan karakteristik dan perilaku belanja mereka. Ini memungkinkan supermarket untuk menyesuaikan penawaran dan promosi sesuai dengan kebutuhan setiap segmen."
   ]
  },
  {
   "cell_type": "code",
   "execution_count": 5,
   "id": "1c82d1f8-599f-427d-ac58-9629ef17259b",
   "metadata": {},
   "outputs": [],
   "source": [
    "#Shortcut untuk menampilkan visualisasi\n",
    "\n",
    "def set_labels(x=\"\", y=\"\", title=\"\", axis=None):\n",
    "  if axis:\n",
    "    axis.set_xlabel(x);\n",
    "    axis.set_ylabel(y);\n",
    "    axis.set_title(title);\n",
    "  else:\n",
    "    plt.title(title);\n",
    "    plt.xlabel(x);\n",
    "    plt.ylabel(y);\n",
    "\n",
    "## Shortcut Display via Loop Per column\n",
    "# for column in dfCopy.columns:\n",
    "#     # 1. Visualisasi Distribusi parsing column\n",
    "#     plt.figure(figsize=(10, 5))\n",
    "#     sns.histplot(dfCopy[column], bins=20, kde=True)\n",
    "#     set_labels(x=column, y=\"Frequency\", title=f\"Distribusi data {column}\")\n",
    "#     plt.show()"
   ]
  },
  {
   "cell_type": "markdown",
   "id": "1ad75105",
   "metadata": {},
   "source": [
    "## 3.1 Pelanggan"
   ]
  },
  {
   "cell_type": "markdown",
   "id": "f31581b3",
   "metadata": {},
   "source": [
    "#### 3.1.1 Bagaimana distribusi tahun lahir dari pelanggan"
   ]
  },
  {
   "cell_type": "code",
   "execution_count": null,
   "id": "45f42f63",
   "metadata": {},
   "outputs": [],
   "source": [
    "set_labels(x=\"Year of Birth\", y=\"Frequency\", title=\"Sebaran Data Tahun Lahir\")\n",
    "plt.xticks(list(range(1830,2000,5)), rotation=45)\n",
    "plt.grid(True)\n",
    "sns.histplot(df['Year_Birth'], bins=20, kde=True)\n",
    "plt.show()"
   ]
  },
  {
   "cell_type": "markdown",
   "id": "d8b50847",
   "metadata": {},
   "source": [
    "Sebagian besar pelanggan antara tahun 1970 hingga 1978,\n",
    "Orang yang lebih tua tampaknya memiliki frequensi lebih tinggi dibandingkan kelahiran yang lebih muda.\n",
    "Kemudian Outlier juga ditemukan."
   ]
  },
  {
   "cell_type": "markdown",
   "id": "5d81d782",
   "metadata": {},
   "source": [
    "#### 3.1.2 Mayoritas data kategorikal Pendidikan"
   ]
  },
  {
   "cell_type": "code",
   "execution_count": null,
   "id": "a0c07c9e",
   "metadata": {},
   "outputs": [],
   "source": [
    "set_labels(x=\"Education Level\", y=\"Frequency\", title=\"Education Levels Among Customers\")\n",
    "sns.countplot(x=df.Education, order = df.Education.value_counts().index, hue=df.Education, legend=False)\n",
    "plt.show()"
   ]
  },
  {
   "cell_type": "markdown",
   "id": "7daf01c9",
   "metadata": {},
   "source": [
    "#### 3.1.3 Mayoritas data kategori pernikahan"
   ]
  },
  {
   "cell_type": "code",
   "execution_count": null,
   "id": "d939e3ca",
   "metadata": {},
   "outputs": [],
   "source": [
    "dfMar = df.Marital_Status.value_counts()\n",
    "dfMar"
   ]
  },
  {
   "cell_type": "markdown",
   "id": "4cf87fa0",
   "metadata": {},
   "source": [
    "Terlihat beberapa kategori yang tidak masuk akal. `Married` `Together` dapat diartikan berpasangan. `Single` `Divorce` `Widow` `Alone` diasumsikan sebagai lajang, sementara `Absurd` dan `YOLO` dapat diabaikan karena tidak dapat di interpretasi dari kedua kategori sebelumnya."
   ]
  },
  {
   "cell_type": "code",
   "execution_count": null,
   "id": "185243c7",
   "metadata": {},
   "outputs": [],
   "source": [
    "single = dfMar[['Single', 'Divorced', 'Widow', 'Alone']].sum()\n",
    "relationship =  dfMar[['Married', 'Together']].sum()\n",
    "\n",
    "set_labels(title=\"Status Hubungan Konsumen\")\n",
    "color = sns.color_palette('ch:start=.2,rot=-.3')\n",
    "plt.pie([single, relationship], labels = ['Lajang', 'Berpasangan'], autopct='%.0f%%', colors=color)\n",
    "plt.show()"
   ]
  },
  {
   "cell_type": "markdown",
   "id": "048c5f65",
   "metadata": {},
   "source": [
    "Dari pie chart terlihat mayoritas pelanggan berstatus berpasangan 65%"
   ]
  },
  {
   "cell_type": "markdown",
   "id": "47d56cc0",
   "metadata": {},
   "source": [
    "#### 3.1.4 Mayoritas pendapatan pelanggan"
   ]
  },
  {
   "cell_type": "code",
   "execution_count": null,
   "id": "3cbc8d0a",
   "metadata": {},
   "outputs": [],
   "source": [
    "sns.displot(df['Income'], kde=True, height=6, aspect=2.6)\n",
    "plt.xticks(list(range(0,700000,50000)))\n",
    "set_labels(x=\"Income\", y=\"Frequency\", title=\" Distribusi Pendapatan Pelanggan\")\n",
    "print('Dapat diamati outlier terlihat , ini dapat diabaikan dulu sementara dengan cara menganalisa data lebih dalam')"
   ]
  },
  {
   "cell_type": "markdown",
   "id": "1ff17e6c",
   "metadata": {},
   "source": []
  },
  {
   "cell_type": "code",
   "execution_count": null,
   "id": "5767d76b",
   "metadata": {},
   "outputs": [],
   "source": [
    "sns.displot(df['Income'], kde=True, height=6, aspect=2.6)\n",
    "plt.xlim([0, 200000])\n",
    "set_labels(x=\"Income\", y=\"Frequency\", title=\" Distribusi Pendapatan Pelanggan\")\n",
    "set_labels(x='Income', y='Frequency', title='Distribusi (Bimodal)')\n",
    "plt.axvline(x=35000,color='r', linestyle='--', label='Income ~ 3000')\n",
    "plt.axvline(x=65000,color='r', linestyle='--', label='Income ~ 65000')\n",
    "plt.legend()\n",
    "plt.show()\n",
    "print(df['Income'].describe())\n",
    "print('Distribusi pendapatan bersifat bimodal dengan pendapatan tahunan yang paling umum sekitar 35.000 dan 65.000.')\n"
   ]
  },
  {
   "cell_type": "markdown",
   "id": "be8d20fe",
   "metadata": {},
   "source": [
    "#### 3.1.5 Mayoritas Jumlah Anak dan Remaja"
   ]
  },
  {
   "cell_type": "code",
   "execution_count": null,
   "id": "bb29c663",
   "metadata": {},
   "outputs": [],
   "source": [
    "# Menghitung jumlah anak-anak dan remaja di rumah tangga\n",
    "kid = df.Kidhome.value_counts()\n",
    "teen = df.Teenhome.value_counts()\n",
    "\n",
    "# Membuat DataFrame untuk counts\n",
    "counts = pd.DataFrame({\n",
    "    'Anak2 per Rumah Tangga': [kid[0], kid[1], kid[2]],  # Jumlah untuk kategori Kids Home\n",
    "    'Remaja per Rumah Tangga': [teen[0], teen[1], teen[2]]  # Jumlah untuk kategori Teens Home\n",
    "}, index=['Tidak Punya', '1 Anak', '2/lebih Anak']).T\n",
    "\n",
    "# Membuat grafik batang\n",
    "counts.plot(kind=\"bar\", rot=0)\n",
    "set_labels(x=\" Jumlah Dalam Rumah Tangga\", y=\"Count\", title=\"Proporsi Anak-anak & Remaja per Rumah Tangga\")\n",
    "print('Sebagian besar pelanggan tidak memiliki remaja atau anak-anak. Namun, jumlah pelanggan yang memiliki satu remaja lebih banyak daripada pelanggan yang memiliki satu anak.')"
   ]
  },
  {
   "cell_type": "markdown",
   "id": "c5ae130c",
   "metadata": {},
   "source": [
    "#### 3.1.6 Sejak kapan supermarket mulai mendapatkan pelanggannya?"
   ]
  },
  {
   "cell_type": "code",
   "execution_count": null,
   "id": "9e847b6c",
   "metadata": {},
   "outputs": [],
   "source": [
    "\n",
    "set_labels(x=\"Customer Enrollment Date\", y=\"Count\", title=\"Distribution of Customer Enrollment Dates\")\n",
    "sns.histplot(pd.to_datetime(df['Dt_Customer'], format='%d-%m-%Y'), kde=True, bins= 30)\n",
    "print('\"Tanggal pendaftaran terdistribusi normal, dengan sebagian besar pelanggan terdaftar antara Juli 2012 dan Juli 2014.\"')"
   ]
  },
  {
   "cell_type": "markdown",
   "id": "db27784f",
   "metadata": {},
   "source": [
    "### 3.1.7 Jumlah hari yang paling umum ditemukan pada antara pembelian terakhir pelanggan"
   ]
  },
  {
   "cell_type": "code",
   "execution_count": null,
   "id": "515aabda",
   "metadata": {},
   "outputs": [],
   "source": [
    "set_labels(x=\"Rentang Waktu Pembelian terakhir\", title=\"Distribusi dari Customer Recency\")\n",
    "sns.violinplot(x=df['Recency'])\n",
    "plt.show()\n",
    "print('Recency Konsumen terlihat terdistribusi Normal. Interval hari terlihat persis sama.')"
   ]
  },
  {
   "cell_type": "markdown",
   "id": "d3d307df",
   "metadata": {},
   "source": [
    "### 3.1.8 Persentasi dari Konsumen yang Complain"
   ]
  },
  {
   "cell_type": "code",
   "execution_count": null,
   "id": "9c05a636",
   "metadata": {},
   "outputs": [],
   "source": [
    "counts = df.Complain.map({0:\"No\", 1:\"Yes\"}).value_counts()\n",
    "\n",
    "fig = px.pie(values=counts.values, names=counts.index, hole=0.6,\n",
    "             color_discrete_sequence=px.colors.qualitative.Pastel)\n",
    "fig.update_layout(title_text='Persentasi Komplain Konsumen dalam 2 tahun terakhir', title_x=0.5)\n"
   ]
  },
  {
   "cell_type": "markdown",
   "id": "0af5f59a",
   "metadata": {},
   "source": [
    "## 3.2 Produk"
   ]
  },
  {
   "cell_type": "markdown",
   "id": "7d5809b9",
   "metadata": {},
   "source": [
    "### 3.2.1 Produk yang paling banyak terjual"
   ]
  },
  {
   "cell_type": "code",
   "execution_count": null,
   "id": "0d9a6268",
   "metadata": {},
   "outputs": [],
   "source": [
    "avg = df[['MntWines', 'MntFruits', 'MntMeatProducts', 'MntFishProducts',\n",
    "          'MntSweetProducts', 'MntGoldProds']].mean(axis=0)\n",
    "\n",
    "fig = px.pie(values=avg.values, names=avg.index,  \n",
    "             color_discrete_sequence=px.colors.qualitative.Pastel)\n",
    "fig.update_layout(title_text='Average Amount Spent on Product Categories', title_x=0.5,\n",
    "                  legend=dict(\n",
    "                      yanchor=\"top\",\n",
    "                      y=0.99,\n",
    "                      xanchor=\"right\",\n",
    "                      x=0.99\n",
    "                  ))\n",
    "fig.show()"
   ]
  },
  {
   "cell_type": "markdown",
   "id": "704d72c7",
   "metadata": {},
   "source": [
    "50% dari rata-rata konsumen membeli wines, kemudian product Meat 27%."
   ]
  },
  {
   "cell_type": "markdown",
   "id": "520719a4",
   "metadata": {},
   "source": [
    "### 3.2.2 Hubungan Pendidikan dan Pola Konsumtif Konsumen"
   ]
  },
  {
   "cell_type": "code",
   "execution_count": null,
   "id": "f9bfd6ad",
   "metadata": {},
   "outputs": [],
   "source": [
    "cat = df.groupby('Education')[['MntWines', 'MntFruits', 'MntMeatProducts', 'MntFishProducts',\n",
    "          'MntSweetProducts', 'MntGoldProds']].mean().T\n",
    "\n",
    "cat.plot(kind='bar', rot=0)\n",
    "set_labels(y=\"Amount\", title=\"Average Amount Spent On Products for Each Education Level\")"
   ]
  },
  {
   "cell_type": "markdown",
   "id": "991872ef",
   "metadata": {},
   "source": [
    "Dari Visualisasi menunjukkan bahwa pemegang gelar PhD menghabiskan paling banyak untuk anggur. Untuk buah-buahan, emas, dan produk daging, individu yang berpendidikan \"sarjana\" menghabiskan paling banyak. Sedangkan individu dengan pendidikan \"2n cycle\" menghabiskan paling banyak untuk ikan dan permen"
   ]
  },
  {
   "cell_type": "markdown",
   "id": "7459c75e",
   "metadata": {},
   "source": [
    "### 3.2.3 Pengaruh Complain dan pola belanja"
   ]
  },
  {
   "cell_type": "code",
   "execution_count": null,
   "id": "3aaf7802",
   "metadata": {},
   "outputs": [],
   "source": [
    "cat = df.copy()\n",
    "cat.Complain = cat.Complain.map({0:\"No\", 1:\"Yes\"})\n",
    "cat = round(cat.groupby('Complain')[['MntWines', 'MntFruits', 'MntMeatProducts', 'MntFishProducts',\n",
    "          'MntSweetProducts', 'MntGoldProds']].mean().T.unstack().reset_index(level=1, name='mean') \\\n",
    "          .rename(columns={'level_1':'category'}).reset_index(), 2)\n",
    "\n",
    "fig = px.bar(data_frame=cat, y='mean', x='Complain',\n",
    "             text=cat['mean'].map(lambda x: str(x)),\n",
    "             color_discrete_sequence=px.colors.qualitative.Pastel,\n",
    "             color='category')\n",
    "\n",
    "fig.update_layout(title=\"Complaining Vs Non-complaining Individu\", title_x=0.5)\n",
    "fig.show()"
   ]
  },
  {
   "cell_type": "markdown",
   "id": "1f85b6be",
   "metadata": {},
   "source": [
    "Seperti yang diharapkan, orang-orang yang mengeluh tentang layanan tingkat pembeliannya lebih sedikit.\n",
    "Rata-rata pengeluaran untuk pelanggan yang mengeluh jauh lebih rendah di semua kategori produk."
   ]
  },
  {
   "cell_type": "markdown",
   "id": "f08bc125",
   "metadata": {},
   "source": [
    "## 3.3 Promosi"
   ]
  },
  {
   "cell_type": "markdown",
   "id": "02c915cf",
   "metadata": {},
   "source": [
    "### 3.3.1 Distribusi pembelian dengan diskon di antara berbagai tingkat pendidikan"
   ]
  },
  {
   "cell_type": "code",
   "execution_count": null,
   "id": "22073e8f",
   "metadata": {},
   "outputs": [],
   "source": [
    "discounted_purchases = df.groupby('Education').NumDealsPurchases.sum()\n",
    "total_purchases = df.groupby('Education')[['NumWebPurchases', 'NumCatalogPurchases', 'NumStorePurchases']].sum().sum(axis=1)\n",
    "\n",
    "percentage = round(discounted_purchases * 100 / total_purchases, 2).sort_values(ascending=False)\n",
    "percentage_df = percentage.reset_index()\n",
    "percentage_df.columns = ['Education', 'Percentage']\n",
    "# Visualisasi dengan bar plot\n",
    "plt.figure(figsize=(10, 6))\n",
    "sns.barplot(data=percentage_df, y='Education', x='Percentage', hue='Education')\n",
    "\n",
    "set_labels(x=\"Percentage\", y=\"Education\", title=\"Ratio of Discounted Purchases to Normal Perchases Per Education Level\")"
   ]
  },
  {
   "cell_type": "markdown",
   "id": "2501cb61",
   "metadata": {},
   "source": [
    "Terlihat bahwa individu dengan tingkat pendidikan terendah memiliki persentase pembelian dengan diskon yang jauh lebih tinggi.\n",
    "Persentase pembelian dengan diskon terendah dilakukan oleh pemegang gelar PhD."
   ]
  },
  {
   "cell_type": "markdown",
   "id": "59e88617",
   "metadata": {},
   "source": [
    "### 3.3.2 Kampanye yang paling sukses di antara pelanggan"
   ]
  },
  {
   "cell_type": "code",
   "execution_count": null,
   "id": "149a9bc6",
   "metadata": {},
   "outputs": [],
   "source": [
    "aCmp = df[['AcceptedCmp1', 'AcceptedCmp2', 'AcceptedCmp3', 'AcceptedCmp4',\n",
    "           'AcceptedCmp5', 'Response']].sum(axis=0) / len(df)\n",
    "names = ['Campaign 1','Campaign 2','Campaign 3','Campaign 4','Campaign 5','Current Campaign']\n",
    "\n",
    "set_labels(y=\"Percentage\", x=\"Campaign\", title=\"Persentase pelanggan Accepted Offers Per Campaign\")\n",
    "sns.barplot(y=aCmp.values, x=names, hue = names)\n",
    "plt.show()\n"
   ]
  },
  {
   "cell_type": "markdown",
   "id": "4a5835c4",
   "metadata": {},
   "source": [
    "Dapat kita amati bahwa permintaan terhadap penawaran kampanye sangat rendah di kalangan pelanggan, karena kampanye yang paling sukses hanya menarik sekitar 15% dari pelanggan."
   ]
  },
  {
   "cell_type": "markdown",
   "id": "005c0088",
   "metadata": {},
   "source": [
    "### 3.3.3 Persentase penawaran yang diterima per kampanye dari semua penawaran yang diterima"
   ]
  },
  {
   "cell_type": "code",
   "execution_count": null,
   "id": "8ffcb975",
   "metadata": {},
   "outputs": [],
   "source": [
    "aCmp = df[['AcceptedCmp1', 'AcceptedCmp2', 'AcceptedCmp3', 'AcceptedCmp4',\n",
    "           'AcceptedCmp5', 'Response']].sum(axis=0)\n",
    "names = ['Campaign 1','Campaign 2','Campaign 3','Campaign 4','Campaign 5','Current Campaign']\n",
    "\n",
    "fig = px.pie(values=aCmp.values, names=names, hole=0.6,\n",
    "             color_discrete_sequence=px.colors.qualitative.Pastel)\n",
    "fig.update_layout(title_text='Percentage of Accepted Offers Per Campaign', title_x=0.5)"
   ]
  },
  {
   "cell_type": "markdown",
   "id": "4124acfa",
   "metadata": {},
   "source": [
    "Kampanye berjalaan saat ini memiliki jauh lebih banyak penawaran yang diterima, dengan sekitar 33,4% dari semua penawaran yang diterima. Ini menjadikannya kampanye yang paling sukses sejauh ini."
   ]
  },
  {
   "cell_type": "markdown",
   "id": "99031869",
   "metadata": {},
   "source": [
    "### 3.3.4 Outlet yang memiliki jumlah pembelian paling banyak"
   ]
  },
  {
   "cell_type": "code",
   "execution_count": null,
   "id": "3f984d4c",
   "metadata": {},
   "outputs": [],
   "source": [
    "\n",
    "# Menghitung total pembelian berdasarkan metode\n",
    "columns = ['NumWebPurchases', 'NumCatalogPurchases', 'NumStorePurchases']\n",
    "columns_new = ['Web Purchases', 'Catalog Purchases', 'Store Purchases']\n",
    "\n",
    "total = pd.DataFrame({\n",
    "    'Method': columns_new,\n",
    "    'Total': df[columns].sum().values\n",
    "})\n",
    "\n",
    "# Membuat treemap\n",
    "fig = px.treemap(total, path=['Method'], values='Total',\n",
    "                 color_discrete_sequence=px.colors.qualitative.Pastel,\n",
    "                )\n",
    "\n",
    "# Mengatur layout\n",
    "fig.update_layout(margin=dict(t=25, l=25, r=25, b=25),\n",
    "                  title_text='Transaksi yang dilakukan berdasarkan Metode',\n",
    "                  title_x=0.5,\n",
    "                  title_y=0.96)\n",
    "\n",
    "# Menampilkan plot\n",
    "fig.show()"
   ]
  },
  {
   "cell_type": "markdown",
   "id": "0b4160e6",
   "metadata": {},
   "source": [
    "Dapat kita lihat bahwa sebagian besar pembelian dilakukan di toko, diikuti oleh pembelian melalui web dengan 9150 transaksi. Pembelian melalui katalog merupakan yang paling sedikit."
   ]
  },
  {
   "cell_type": "markdown",
   "id": "f3b571cd",
   "metadata": {},
   "source": [
    "# 4 Data Cleaning <a class=\"anchor\" id=\"cleaning\"></a>\n",
    "Data cleaning adalah langkah penting dalam proses analisis data, karena memastikan kualitas dan keandalan data yang digunakan untuk analisis. Dalam bagian ini, kami akan menjelaskan langkah-langkah yang diambil untuk membersihkan dataset, mengatasi masalah seperti nilai yang hilang, duplikat, dan inkonsistensi"
   ]
  },
  {
   "cell_type": "markdown",
   "id": "cee35908",
   "metadata": {},
   "source": [
    "## 4.1 Missing Values <a class=\"anchor\" id=\"cleaning_missing\"></a>"
   ]
  },
  {
   "cell_type": "code",
   "execution_count": null,
   "id": "302a0f59",
   "metadata": {},
   "outputs": [],
   "source": [
    "missing = (df.isna().sum() / len(df) * 100).round(2)\n",
    "print(missing)"
   ]
  },
  {
   "cell_type": "markdown",
   "id": "e7731ff3",
   "metadata": {},
   "source": [
    "Karena jumlah data hilang sangat sedikit hanya sekitar 1 %, diputuskan untuk menghapus row data yang missing."
   ]
  },
  {
   "cell_type": "code",
   "execution_count": null,
   "id": "f024bd99",
   "metadata": {},
   "outputs": [],
   "source": [
    "df = df.dropna()\n",
    "df.shape\n",
    "print(f\"Data yang tersisa setelah row missing dihapus adalah :{df.shape}\")"
   ]
  },
  {
   "cell_type": "markdown",
   "id": "6f745a66",
   "metadata": {},
   "source": [
    "## 4.2 Inkonsistensi Tipe Data <a class=\"anchor\" id=\"cleaning_incorrect\"></a>"
   ]
  },
  {
   "cell_type": "code",
   "execution_count": null,
   "id": "b2dfa620",
   "metadata": {},
   "outputs": [],
   "source": [
    "df.dtypes"
   ]
  },
  {
   "cell_type": "markdown",
   "id": "3a8757d0",
   "metadata": {},
   "source": [
    "Kolom `Dt_Customer` bertipe data Object, Kolom ini mengandung format waktu. Agar lebih sederhana kolom ini akan di casting ke tipe data integer"
   ]
  },
  {
   "cell_type": "code",
   "execution_count": null,
   "id": "6cb5102e",
   "metadata": {},
   "outputs": [],
   "source": [
    "df.loc[:, 'Dt_Customer'] = pd.to_datetime(df['Dt_Customer'], format='%d-%m-%Y', errors='coerce').dt.year\n",
    "\n",
    "df['Dt_Customer']"
   ]
  },
  {
   "cell_type": "markdown",
   "id": "07ea30b6",
   "metadata": {},
   "source": [
    "## 4.3 Inkonsistensi Nilai <a class=\"anchor\" id=\"cleaning_inconsistent\"></a>"
   ]
  },
  {
   "cell_type": "code",
   "execution_count": null,
   "id": "86100acb",
   "metadata": {},
   "outputs": [],
   "source": [
    "df['Education'].unique()"
   ]
  },
  {
   "cell_type": "markdown",
   "id": "8fdbe223",
   "metadata": {},
   "source": [
    "Pada kolom pendidikan, kita memiliki banyak nilai untuk pendidikan, dan kita dapat mengonversinya menjadi sesuatu yang dapat dipahami. Dari beberapa penelitian, ditemukan bahwa `2n cycle` adalah gelar magister, `Basic` adalah hingga sekolah menengah, dan `Graduation` adalah gelar sarjana."
   ]
  },
  {
   "cell_type": "code",
   "execution_count": null,
   "id": "ba8155c4",
   "metadata": {},
   "outputs": [],
   "source": [
    "\n",
    "df['Education'] = df['Education'].replace({\n",
    "    \"Graduation\": \"Bachelor\",\n",
    "    \"Basic\": \"High School\",\n",
    "    \"2n Cycle\": \"Master\"\n",
    "})\n",
    "df['Education'].unique()"
   ]
  },
  {
   "cell_type": "code",
   "execution_count": null,
   "id": "a619027b",
   "metadata": {},
   "outputs": [],
   "source": [
    "df.Marital_Status.unique()"
   ]
  },
  {
   "cell_type": "markdown",
   "id": "185c347b",
   "metadata": {},
   "source": [
    "Bisa kita lihat nilai dalam `Marital_Status` juga tidak konsisten. Kita dapat membagi menjadi 2 , Single & Couple\n"
   ]
  },
  {
   "cell_type": "code",
   "execution_count": null,
   "id": "0484312c",
   "metadata": {},
   "outputs": [],
   "source": [
    "df['Marital_Status'] = df['Marital_Status'].replace({\"Together\": \"Couple\",\n",
    "                           \"Married\": \"Couple\",\n",
    "                           \"Divorced\":\"Single\",\n",
    "                           \"Widow\": \"Single\",\n",
    "                           \"Alone\": \"Single\",\n",
    "                           \"Absurd\": \"Single\",\n",
    "                           \"YOLO\": \"Single\"},)\n",
    "\n",
    "df.Marital_Status.unique()\n",
    "df"
   ]
  },
  {
   "cell_type": "markdown",
   "id": "cfce1de8",
   "metadata": {},
   "source": [
    "## 4.4 Menghapus Outlier  <a class=\"anchor\" id=\"cleaning_outliers\"></a>\n",
    "\n",
    "Pada tahap awal(EDA), dapat diamati beberapa outlier. outlier tersebut terutama merupakan nilai ekstrem dalam kolom tahun kelahiran dan pendapatan. Karena jumlahnya sedikit, aman untuk menghapus nilai-nilai tersebut."
   ]
  },
  {
   "cell_type": "code",
   "execution_count": null,
   "id": "43554eb8",
   "metadata": {},
   "outputs": [],
   "source": [
    "df = df.loc[df.Year_Birth  >= 1935]\n",
    "df = df.loc[df.Income  <= 200000]\n",
    "\n",
    "df.shape"
   ]
  },
  {
   "cell_type": "markdown",
   "id": "c793a9fd",
   "metadata": {},
   "source": [
    "## 4.5 Menghapus Kolom yang Tidak diperlukan <a class=\"anchor\" id=\"cleaning_unneeded\"></a>\n",
    "\n",
    "Saat penilaian awal, kami mengamati bahwa kolom ID, Z_Revenue, dan Z_CostContact tidak memiliki tujuan yang jelas. Oleh karena itu, lebih baik jika kolom-kolom tersebut dihapus."
   ]
  },
  {
   "cell_type": "code",
   "execution_count": null,
   "id": "f1e39214",
   "metadata": {},
   "outputs": [],
   "source": [
    "df.Z_Revenue.value_counts()"
   ]
  },
  {
   "cell_type": "code",
   "execution_count": null,
   "id": "35506d88",
   "metadata": {},
   "outputs": [],
   "source": [
    "df.Z_CostContact.value_counts()"
   ]
  },
  {
   "cell_type": "markdown",
   "id": "395c137c",
   "metadata": {},
   "source": [
    "Kolom Z mengandung satu nilai untuk seluruh data, sehingga sebaiknya dihapus."
   ]
  },
  {
   "cell_type": "code",
   "execution_count": 73,
   "id": "fd2ebc46",
   "metadata": {},
   "outputs": [],
   "source": [
    "df.drop(columns=['ID', 'Z_Revenue', 'Z_CostContact'], inplace=True)"
   ]
  },
  {
   "cell_type": "markdown",
   "id": "cec86870",
   "metadata": {},
   "source": [
    "## 4.6 Penamaan Ulang Kolom <a class=\"anchor\" id=\"cleaning_rename\"></a>\n",
    "Kolom `Response` mungkin dinamai demikian untuk menunjukkan target dari kolom target model ML.<br>Namun, penamaan ini tidak membantu untuk analisis. Karena kita sudah mengetahui arti dari kolom ini, kita dapat menggantinya dengan nama yang lebih sesuai.<br>Selain itu, nama kolom `Dt_Customer` juga ambigu"
   ]
  },
  {
   "cell_type": "code",
   "execution_count": 74,
   "id": "b9d3116a",
   "metadata": {},
   "outputs": [],
   "source": [
    "df.rename(columns={'Response': 'AcceptedCmpCurrent', 'Dt_Customer':'CustomerSince'}, inplace=True)"
   ]
  },
  {
   "cell_type": "markdown",
   "id": "03797678",
   "metadata": {},
   "source": [
    "# 5 Feature Engineering <a class=\"anchor\" id=\"eng\"></a>\n",
    "Proses menciptakan fitur baru dari data yang ada untuk meningkatkan kinerja model analisis. Dalam bagian ini, kami akan menjelaskan beberapa teknik feature engineering yang diterapkan pada dataset."
   ]
  },
  {
   "cell_type": "markdown",
   "id": "a172e490",
   "metadata": {},
   "source": [
    "## 5.1 Total Jumlah Pembelian <a class=\"anchor\" id=\"eng_tot_pur\"></a>\n",
    "Kita memiliki jumlah pembelian yang dilakukan oleh seorang pelanggan di setiap outlet. Kita dapat menjumlahkan semua itu untuk mendapatkan total jumlah pembelian yang dilakukan oleh pelanggan tersebut."
   ]
  },
  {
   "cell_type": "code",
   "execution_count": null,
   "id": "a0d70874",
   "metadata": {},
   "outputs": [],
   "source": [
    "cols = ['NumWebPurchases', 'NumCatalogPurchases', 'NumStorePurchases']\n",
    "df['NumPurchases'] = df[cols].sum(axis=1)\n",
    "\n",
    "df['NumPurchases']"
   ]
  },
  {
   "cell_type": "markdown",
   "id": "4ef61a08",
   "metadata": {},
   "source": [
    "## 5.2 Jumlah Uang yang Dibelanjakan <a class=\"anchor\" id=\"eng_amt_spnt\"></a>\n",
    "Kita dapat menjumlahkan jumlah uang yang dibelanjakan di setiap kategori untuk mendapatkan total jumlah uang yang dibelanjakan oleh pelanggan."
   ]
  },
  {
   "cell_type": "code",
   "execution_count": null,
   "id": "a1ffd93f",
   "metadata": {},
   "outputs": [],
   "source": [
    "cols = ['MntWines', 'MntFruits', 'MntMeatProducts', 'MntFishProducts', 'MntSweetProducts', 'MntGoldProds']\n",
    "df['AmountSpent'] = df[cols].sum(axis=1)\n",
    "\n",
    "df['AmountSpent']\n",
    "\n"
   ]
  },
  {
   "cell_type": "markdown",
   "id": "6c972cb6",
   "metadata": {},
   "source": [
    "## 5.3 Jumlah Uang per Pembelian <a class=\"anchor\" id=\"eng_amt_pur\"></a>\n",
    "Kita kemudian dapat menggunakan fitur baru yang telah dibuat, yaitu NumPurchases dan AmountSpent, untuk mendapatkan rata-rata jumlah uang yang dibelanjakan oleh pelanggan dalam satu pembelian. Kita dapat melakukannya dengan membagi keduanya."
   ]
  },
  {
   "cell_type": "code",
   "execution_count": null,
   "id": "adec8ba6",
   "metadata": {},
   "outputs": [],
   "source": [
    "df['AmountPerPurchase'] = df['AmountSpent'] / (df['NumPurchases'] + 1e-1)\n",
    "\n",
    "df['AmountPerPurchase']"
   ]
  },
  {
   "cell_type": "markdown",
   "id": "b08efecd",
   "metadata": {},
   "source": [
    "## 5.4 Jumlah Populasi di Rumah <a class=\"anchor\" id=\"eng_person\"></a>\n",
    "Kita memiliki kolom untuk jumlah anak dan jumlah remaja. <br>Dengan menjumlahkan ini dengan 1 atau 2 tergantung pada status pernikahan, kita dapat menyimpulkan jumlah individu dalam rumah tangga."
   ]
  },
  {
   "cell_type": "code",
   "execution_count": null,
   "id": "0e733df7",
   "metadata": {},
   "outputs": [],
   "source": [
    "# Menghitung jumlah orang di rumah\n",
    "cols = ['Kidhome', 'Teenhome']\n",
    "df['PersonsInHome'] = df[cols].sum(axis=1) + 2\n",
    "\n",
    "# Mengurangi 1 untuk status pernikahan 'Single'\n",
    "df.loc[df['Marital_Status'] == 'Single', 'PersonsInHome'] -= 1\n",
    "\n",
    "df"
   ]
  },
  {
   "cell_type": "markdown",
   "id": "989a6595",
   "metadata": {},
   "source": [
    "# 6 Pra-pemrosesan <a class=\"anchor\" id=\"pre\"></a>\n",
    "Untuk menganalisis output pengelompokan di kemudian hari, kita akan menjaga data asli tetap tidak terubah."
   ]
  },
  {
   "cell_type": "code",
   "execution_count": null,
   "id": "b244c71b",
   "metadata": {},
   "outputs": [],
   "source": []
  }
 ],
 "metadata": {
  "kernelspec": {
   "display_name": "Python 3",
   "language": "python",
   "name": "python3"
  },
  "language_info": {
   "codemirror_mode": {
    "name": "ipython",
    "version": 3
   },
   "file_extension": ".py",
   "mimetype": "text/x-python",
   "name": "python",
   "nbconvert_exporter": "python",
   "pygments_lexer": "ipython3",
   "version": "3.9.6"
  }
 },
 "nbformat": 4,
 "nbformat_minor": 5
}
